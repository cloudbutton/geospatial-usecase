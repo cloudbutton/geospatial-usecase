{
 "cells": [
  {
   "cell_type": "markdown",
   "metadata": {},
   "source": [
    "# Cloudbutton geospatial use case: Model calculation"
   ]
  },
  {
   "cell_type": "markdown",
   "metadata": {},
   "source": []
  },
  {
   "cell_type": "code",
   "execution_count": 216,
   "metadata": {},
   "outputs": [],
   "source": [
    "import os\n",
    "import pathlib\n",
    "import json\n",
    "import subprocess\n",
    "import shutil\n",
    "import lithops\n",
    "from lithops.storage import Storage\n",
    "\n",
    "import numpy as np\n",
    "import pdal\n",
    "from osgeo import gdal\n",
    "from scipy import ndimage\n",
    "\n",
    "from posixpath import join as posix_join\n"
   ]
  },
  {
   "cell_type": "code",
   "execution_count": 217,
   "metadata": {},
   "outputs": [],
   "source": [
    "DATA_BUCKET = 'cb-geospatial-wildfirev1'\n",
    "COMPUTE_BACKEND = 'aws_lambda'\n",
    "STORAGE_BACKEND = 'aws_s3'\n",
    "STORAGE_PREFIX = 'aws_s3://'\n",
    "INPUT_DATA_PREFIX = 'input-las-tiles/'"
   ]
  },
  {
   "cell_type": "markdown",
   "metadata": {},
   "source": [
    "Experiment parameters\n"
   ]
  },
  {
   "cell_type": "code",
   "execution_count": 218,
   "metadata": {},
   "outputs": [],
   "source": [
    "FCC_WINDOW = 3\n",
    "FCC_BREAKPOINT = 0.01"
   ]
  },
  {
   "cell_type": "markdown",
   "metadata": {},
   "source": [
    "---\n",
    "Upload dataset\n",
    "---\n"
   ]
  },
  {
   "cell_type": "code",
   "execution_count": 219,
   "metadata": {},
   "outputs": [],
   "source": [
    "LOCAL_INPUT_DIR = 'input-las-tiles'"
   ]
  },
  {
   "cell_type": "code",
   "execution_count": 220,
   "metadata": {},
   "outputs": [
    {
     "name": "stderr",
     "output_type": "stream",
     "text": [
      "2024-02-02 16:06:04,791 [INFO] aws_s3.py:68 -- S3 client created - Region: eu-west-1\n"
     ]
    }
   ],
   "source": [
    "storage = Storage(backend=STORAGE_BACKEND)"
   ]
  },
  {
   "cell_type": "code",
   "execution_count": 221,
   "metadata": {},
   "outputs": [
    {
     "name": "stdout",
     "output_type": "stream",
     "text": [
      "Uploading input-las-tiles/lidarcatv01ls12f390612ed03.laz...\n",
      "Ok!\n",
      "Uploading input-las-tiles/lidarcatv01ls12f390614ed03.laz...\n",
      "Ok!\n",
      "Uploading input-las-tiles/lidarcatv01ls12f390616ed03.laz...\n",
      "Ok!\n",
      "Uploading input-las-tiles/lidarcatv01ls12f390618ed03.laz...\n",
      "Ok!\n"
     ]
    }
   ],
   "source": [
    "bucket_objects = storage.list_keys(bucket=DATA_BUCKET)\n",
    "\n",
    "for file_name in os.listdir(LOCAL_INPUT_DIR):\n",
    "    if file_name not in bucket_objects:\n",
    "        key = os.path.join(INPUT_DATA_PREFIX, file_name)\n",
    "        with open(os.path.join(LOCAL_INPUT_DIR, file_name), 'rb') as file:\n",
    "            print(f'Uploading {key}...')\n",
    "            data = file.read()\n",
    "            storage.put_object(bucket=DATA_BUCKET, key=key, body=data)\n",
    "            print('Ok!')"
   ]
  },
  {
   "cell_type": "markdown",
   "metadata": {},
   "source": [
    "---\n",
    "Calculte DEM, DSM and CHM\n",
    "---\n"
   ]
  },
  {
   "cell_type": "code",
   "execution_count": 222,
   "metadata": {},
   "outputs": [
    {
     "data": {
      "text/plain": [
       "['input-las-tiles/lidarcatv01ls12f390612ed03.laz',\n",
       " 'input-las-tiles/lidarcatv01ls12f390614ed03.laz',\n",
       " 'input-las-tiles/lidarcatv01ls12f390616ed03.laz',\n",
       " 'input-las-tiles/lidarcatv01ls12f390618ed03.laz']"
      ]
     },
     "execution_count": 222,
     "metadata": {},
     "output_type": "execute_result"
    }
   ],
   "source": [
    "storage.list_keys(bucket=DATA_BUCKET)"
   ]
  },
  {
   "cell_type": "code",
   "execution_count": 223,
   "metadata": {},
   "outputs": [],
   "source": [
    "def calculate_models(obj, storage):\n",
    "    # Create temporary file paths\n",
    "    tmp_path_prefix = '/tmp/geo/'\n",
    "    if os.path.exists(tmp_path_prefix):\n",
    "        shutil.rmtree(tmp_path_prefix)\n",
    "    for subpath in ['dsm', 'dem', 'chm', 'aspect', 'slope', 'fcc']:\n",
    "        os.makedirs(os.path.join(tmp_path_prefix, subpath), exist_ok=True)\n",
    "\n",
    "    las_tile_filename = pathlib.Path(obj.key).name\n",
    "    tile_key = pathlib.Path(obj.key).stem\n",
    "\n",
    "    # Save obj to file\n",
    "    data = obj.data_stream.read()\n",
    "    input_file_path = os.path.join(tmp_path_prefix, las_tile_filename)\n",
    "    with open(input_file_path, 'wb') as file:\n",
    "        file.write(data)\n",
    "\n",
    "    # DSM pipeline\n",
    "    dsm_file_path = os.path.join(tmp_path_prefix, 'dsm', tile_key + '.gtiff')\n",
    "    dsm_pipeline_json = {\n",
    "        \"pipeline\": [\n",
    "            {\n",
    "                \"type\": \"readers.las\",\n",
    "                \"filename\": f\"{input_file_path}\",\n",
    "                \"spatialreference\": \"EPSG:25830\"\n",
    "            },\n",
    "            {\n",
    "                \"type\": \"filters.reprojection\",\n",
    "                \"in_srs\": \"EPSG:25830\",\n",
    "                \"out_srs\": \"EPSG:25830\"\n",
    "            },\n",
    "            {\n",
    "                \"type\": \"filters.outlier\",\n",
    "                \"method\": \"radius\",\n",
    "                \"radius\": 1.0,\n",
    "                \"min_k\": 4\n",
    "            },\n",
    "            {\n",
    "                \"type\": \"filters.range\",\n",
    "                # Classification equals 2 (corresponding to noise points in LAS).\n",
    "                \"limits\": \"Classification![7:7]\"\n",
    "            },\n",
    "            {\n",
    "                \"type\": \"filters.range\",\n",
    "                \"limits\": \"returnnumber[1:1]\"\n",
    "            },\n",
    "            {\n",
    "                \"type\": \"writers.gdal\",\n",
    "                \"gdaldriver\": \"GTiff\",\n",
    "                \"nodata\": \"-9999\",\n",
    "                \"output_type\": \"max\",\n",
    "                \"resolution\": 1,\n",
    "                \"filename\": f\"{dsm_file_path}\"\n",
    "            }\n",
    "        ]\n",
    "    }\n",
    "    dsm_pipeline_json_str = json.dumps(dsm_pipeline_json, indent=4)\n",
    "    pipeline = pdal.Pipeline(dsm_pipeline_json_str)\n",
    "    #pipeline.validate()\n",
    "    #pipeline.loglevel = 8\n",
    "    print('Executing DSM pipeline...')\n",
    "    result = pipeline.execute()\n",
    "    print(result)\n",
    "\n",
    "    # DEM pipeline\n",
    "    dem_file_path = os.path.join(tmp_path_prefix, 'dem', tile_key + '.gtiff')\n",
    "    dem_pipeline_json = {\n",
    "        \"pipeline\": [\n",
    "            {\n",
    "                \"type\": \"readers.las\",\n",
    "                \"filename\": f\"{input_file_path}\",\n",
    "                \"spatialreference\": \"EPSG:25830\"\n",
    "            },\n",
    "            {\n",
    "                \"type\": \"filters.reprojection\",\n",
    "                \"in_srs\": \"EPSG:25830\",\n",
    "                \"out_srs\": \"EPSG:25830\"\n",
    "            },\n",
    "            {\n",
    "                \"type\": \"filters.assign\",\n",
    "                \"assignment\": \"Classification[:]=0\"\n",
    "            },\n",
    "            {\n",
    "                \"type\": \"filters.elm\"\n",
    "            },\n",
    "            {\n",
    "                \"type\": \"filters.outlier\",\n",
    "                \"method\": \"radius\",\n",
    "                \"radius\": 1.0,\n",
    "                \"min_k\": 4\n",
    "            },\n",
    "            {\n",
    "\n",
    "                \"type\": \"filters.smrf\",\n",
    "                \"ignore\": \"Classification[7:7]\",\n",
    "                \"slope\": 0.2,\n",
    "                \"window\": 16,\n",
    "                \"threshold\": 0.45,\n",
    "                \"scalar\": 1.2\n",
    "            },\n",
    "            {\n",
    "                \"type\": \"filters.range\",\n",
    "                # Classification equals 2 (corresponding to ground in LAS).\n",
    "                \"limits\": \"Classification[2:2]\",\n",
    "            },\n",
    "            {\n",
    "                \"type\": \"writers.gdal\",\n",
    "                \"gdaldriver\": \"GTiff\",\n",
    "                \"nodata\": \"-9999\",\n",
    "                \"output_type\": \"max\",\n",
    "                \"resolution\": 1,\n",
    "                \"filename\": f\"{dem_file_path}\"\n",
    "            }\n",
    "        ]\n",
    "    }\n",
    "    dem_pipeline_json_str = json.dumps(dem_pipeline_json, indent=4)\n",
    "    pipeline = pdal.Pipeline(dem_pipeline_json_str)\n",
    "    #pipeline.validate()  # Check if json options are good\n",
    "    #pipeline.loglevel = 8\n",
    "    print('Executing DEM pipeline...')\n",
    "    result = pipeline.execute()\n",
    "    print(result)\n",
    "\n",
    "    # calculate CHM\n",
    "    chm_file_path = os.path.join(tmp_path_prefix, 'chm', tile_key + '.tiff')\n",
    "    cmd = ['gdal_calc.py', '-A', dem_file_path, '-B', dsm_file_path,\n",
    "           '--calc=\"B-A\"', '--NoDataValue=0', '--outfile', chm_file_path]\n",
    "    p = subprocess.Popen(cmd, stdout=subprocess.PIPE, stderr=subprocess.PIPE, close_fds=True)\n",
    "    stdout, stderr = p.communicate()\n",
    "    print(stdout, stderr)\n",
    "    # assert p.returncode == 0\n",
    "\n",
    "    # calculate aspect\n",
    "    aspect_file_path = os.path.join(tmp_path_prefix, 'aspect', tile_key + '.tiff')\n",
    "    cmd = ['gdaldem', 'aspect', dem_file_path, aspect_file_path, '-compute_edges']\n",
    "    p = subprocess.Popen(cmd, stdout=subprocess.PIPE, stderr=subprocess.PIPE, close_fds=True)\n",
    "    stdout, stderr = p.communicate()\n",
    "    print(stdout, stderr)\n",
    "    # assert p.returncode == 0\n",
    "\n",
    "    # calculate slope\n",
    "    slope_file_path = os.path.join(tmp_path_prefix, 'slope', tile_key + '.tiff')\n",
    "    cmd = ['gdaldem', 'slope', dem_file_path, slope_file_path, '-compute_edges']\n",
    "    p = subprocess.Popen(cmd, stdout=subprocess.PIPE, stderr=subprocess.PIPE, close_fds=True)\n",
    "    stdout, stderr = p.communicate()\n",
    "    print(stdout, stderr)\n",
    "    # assert p.returncode == 0\n",
    "\n",
    "    # calculate FCC\n",
    "    in_ds = gdal.Open(dem_file_path)\n",
    "    rows = in_ds.RasterYSize\n",
    "    cols = in_ds.RasterXSize\n",
    "    in_band = in_ds.GetRasterBand(1)\n",
    "    data = in_band.ReadAsArray(0, 0, cols, rows).astype(np.float64)\n",
    "    data[data > FCC_BREAKPOINT] = 1\n",
    "    data[data <= FCC_BREAKPOINT] = 0\n",
    "\n",
    "    # Computing fraction on the whole raster through a moving window.\n",
    "    def _compute_fraction(array):\n",
    "        nveg = np.sum(array == 1)\n",
    "        total = len(array)\n",
    "        out = (nveg/total)*100\n",
    "        return(out)\n",
    "\n",
    "    TCC = ndimage.generic_filter(data, _compute_fraction, size=FCC_WINDOW)\n",
    "\n",
    "    gtiff_driver = gdal.GetDriverByName(\"GTiff\")\n",
    "    fcc_file_path = os.path.join(tmp_path_prefix, 'fcc', tile_key + '.tiff')\n",
    "    out_ds = gtiff_driver.Create(fcc_file_path, cols, rows, 1, in_band.DataType)\n",
    "    out_ds.SetProjection(in_ds.GetProjection())\n",
    "    out_ds.SetGeoTransform(in_ds.GetGeoTransform())\n",
    "\n",
    "    out_band = out_ds.GetRasterBand(1)\n",
    "    out_band.WriteArray(TCC)\n",
    "    # out_ds.BuildOverviews(\"Average\", [2, 4, 8, 16, 32])\n",
    "    out_ds.FlushCache()\n",
    "    del in_ds, out_ds\n",
    "\n",
    "    outputs = [dsm_file_path, dem_file_path, chm_file_path,\n",
    "               aspect_file_path, slope_file_path, fcc_file_path]\n",
    "    for output_path in outputs:\n",
    "        if os.path.exists(output_path):\n",
    "            with open(output_path, 'rb') as output_file:\n",
    "                data = output_file.read()\n",
    "                cos_key = output_path.replace(tmp_path_prefix, '')\n",
    "                storage.put_object(bucket=DATA_BUCKET, key=cos_key, body=data)\n",
    "        else:\n",
    "            print(f'Failed to upload {output_path}')\n",
    "\n",
    "    out = subprocess.check_output(['find', '/tmp/geo/'])\n",
    "    return out"
   ]
  },
  {
   "cell_type": "code",
   "execution_count": 224,
   "metadata": {},
   "outputs": [
    {
     "name": "stderr",
     "output_type": "stream",
     "text": [
      "2024-02-02 16:06:32,202 [INFO] config.py:139 -- Lithops v3.1.0 - Python3.10\n",
      "2024-02-02 16:06:32,210 [INFO] aws_s3.py:68 -- S3 client created - Region: eu-west-1\n",
      "2024-02-02 16:06:33,971 [INFO] aws_lambda.py:106 -- AWS Lambda client created - Region: eu-west-1\n"
     ]
    }
   ],
   "source": [
    "fexec = lithops.FunctionExecutor()"
   ]
  },
  {
   "cell_type": "code",
   "execution_count": 225,
   "metadata": {},
   "outputs": [
    {
     "data": {
      "text/plain": [
       "'aws_s3://cb-geospatial-wildfirev1\\\\input-las-tiles/'"
      ]
     },
     "execution_count": 225,
     "metadata": {},
     "output_type": "execute_result"
    }
   ],
   "source": [
    "os.path.join(STORAGE_PREFIX, DATA_BUCKET, INPUT_DATA_PREFIX)"
   ]
  },
  {
   "cell_type": "code",
   "execution_count": 226,
   "metadata": {},
   "outputs": [
    {
     "name": "stderr",
     "output_type": "stream",
     "text": [
      "2024-02-02 16:06:34,040 [INFO] invokers.py:107 -- ExecutorID 4f70d2-18 | JobID M000 - Selected Runtime: monitoring5 - 3007MB\n",
      "2024-02-02 16:06:34,574 [INFO] invokers.py:172 -- ExecutorID 4f70d2-18 | JobID M000 - Starting function invocation: calculate_models() - Total: 4 activations\n",
      "2024-02-02 16:06:34,578 [INFO] invokers.py:208 -- ExecutorID 4f70d2-18 | JobID M000 - View execution logs at C:\\Users\\ubena\\AppData\\Local\\Temp\\lithops-root\\logs\\4f70d2-18-M000.log\n"
     ]
    }
   ],
   "source": [
    "fs = fexec.map(calculate_models, posix_join(STORAGE_PREFIX, DATA_BUCKET, INPUT_DATA_PREFIX))"
   ]
  },
  {
   "cell_type": "code",
   "execution_count": 227,
   "metadata": {},
   "outputs": [
    {
     "name": "stderr",
     "output_type": "stream",
     "text": [
      "2024-02-02 16:06:34,608 [INFO] wait.py:98 -- ExecutorID 4f70d2-18 - Getting results from 4 function activations\n"
     ]
    },
    {
     "data": {
      "application/vnd.jupyter.widget-view+json": {
       "model_id": "d6d99e5c01164abc92d98f8586343d45",
       "version_major": 2,
       "version_minor": 0
      },
      "text/plain": [
       "    0%|          | 0/4  "
      ]
     },
     "metadata": {},
     "output_type": "display_data"
    },
    {
     "name": "stderr",
     "output_type": "stream",
     "text": [
      "2024-02-02 16:08:18,435 [INFO] executors.py:596 -- ExecutorID 4f70d2-18 - Cleaning temporary data\n"
     ]
    }
   ],
   "source": [
    "res = fexec.get_result(fs=fs)"
   ]
  },
  {
   "cell_type": "code",
   "execution_count": 228,
   "metadata": {},
   "outputs": [
    {
     "name": "stdout",
     "output_type": "stream",
     "text": [
      "/tmp/geo/\n",
      "/tmp/geo/lidarcatv01ls12f390612ed03.laz\n",
      "/tmp/geo/dem\n",
      "/tmp/geo/dem/lidarcatv01ls12f390612ed03.gtiff\n",
      "/tmp/geo/slope\n",
      "/tmp/geo/slope/lidarcatv01ls12f390612ed03.tiff\n",
      "/tmp/geo/fcc\n",
      "/tmp/geo/fcc/lidarcatv01ls12f390612ed03.tiff\n",
      "/tmp/geo/dsm\n",
      "/tmp/geo/dsm/lidarcatv01ls12f390612ed03.gtiff\n",
      "/tmp/geo/aspect\n",
      "/tmp/geo/aspect/lidarcatv01ls12f390612ed03.tiff\n",
      "/tmp/geo/chm\n",
      "/tmp/geo/chm/lidarcatv01ls12f390612ed03.tiff\n",
      "---\n",
      "/tmp/geo/\n",
      "/tmp/geo/dem\n",
      "/tmp/geo/dem/lidarcatv01ls12f390614ed03.gtiff\n",
      "/tmp/geo/slope\n",
      "/tmp/geo/slope/lidarcatv01ls12f390614ed03.tiff\n",
      "/tmp/geo/fcc\n",
      "/tmp/geo/fcc/lidarcatv01ls12f390614ed03.tiff\n",
      "/tmp/geo/dsm\n",
      "/tmp/geo/dsm/lidarcatv01ls12f390614ed03.gtiff\n",
      "/tmp/geo/lidarcatv01ls12f390614ed03.laz\n",
      "/tmp/geo/aspect\n",
      "/tmp/geo/aspect/lidarcatv01ls12f390614ed03.tiff\n",
      "/tmp/geo/chm\n",
      "/tmp/geo/chm/lidarcatv01ls12f390614ed03.tiff\n",
      "---\n",
      "/tmp/geo/\n",
      "/tmp/geo/dem\n",
      "/tmp/geo/dem/lidarcatv01ls12f390616ed03.gtiff\n",
      "/tmp/geo/slope\n",
      "/tmp/geo/slope/lidarcatv01ls12f390616ed03.tiff\n",
      "/tmp/geo/fcc\n",
      "/tmp/geo/fcc/lidarcatv01ls12f390616ed03.tiff\n",
      "/tmp/geo/dsm\n",
      "/tmp/geo/dsm/lidarcatv01ls12f390616ed03.gtiff\n",
      "/tmp/geo/lidarcatv01ls12f390616ed03.laz\n",
      "/tmp/geo/aspect\n",
      "/tmp/geo/aspect/lidarcatv01ls12f390616ed03.tiff\n",
      "/tmp/geo/chm\n",
      "/tmp/geo/chm/lidarcatv01ls12f390616ed03.tiff\n",
      "---\n",
      "/tmp/geo/\n",
      "/tmp/geo/dem\n",
      "/tmp/geo/dem/lidarcatv01ls12f390618ed03.gtiff\n",
      "/tmp/geo/slope\n",
      "/tmp/geo/slope/lidarcatv01ls12f390618ed03.tiff\n",
      "/tmp/geo/fcc\n",
      "/tmp/geo/fcc/lidarcatv01ls12f390618ed03.tiff\n",
      "/tmp/geo/dsm\n",
      "/tmp/geo/dsm/lidarcatv01ls12f390618ed03.gtiff\n",
      "/tmp/geo/lidarcatv01ls12f390618ed03.laz\n",
      "/tmp/geo/aspect\n",
      "/tmp/geo/aspect/lidarcatv01ls12f390618ed03.tiff\n",
      "/tmp/geo/chm\n",
      "/tmp/geo/chm/lidarcatv01ls12f390618ed03.tiff\n",
      "---\n"
     ]
    }
   ],
   "source": [
    "for r in res:\n",
    "    print(r.decode('utf-8').strip())\n",
    "    print('---')"
   ]
  },
  {
   "cell_type": "code",
   "execution_count": null,
   "metadata": {},
   "outputs": [],
   "source": []
  },
  {
   "cell_type": "code",
   "execution_count": null,
   "metadata": {},
   "outputs": [],
   "source": []
  }
 ],
 "metadata": {
  "kernelspec": {
   "display_name": "Python 3",
   "language": "python",
   "name": "python3"
  },
  "language_info": {
   "codemirror_mode": {
    "name": "ipython",
    "version": 3
   },
   "file_extension": ".py",
   "mimetype": "text/x-python",
   "name": "python",
   "nbconvert_exporter": "python",
   "pygments_lexer": "ipython3",
   "version": "3.10.13"
  }
 },
 "nbformat": 4,
 "nbformat_minor": 4
}
