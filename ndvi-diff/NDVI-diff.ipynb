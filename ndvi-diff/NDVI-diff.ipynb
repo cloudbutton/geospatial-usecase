{
 "cells": [
  {
   "cell_type": "markdown",
   "metadata": {
    "pycharm": {
     "name": "#%% md\n"
    }
   },
   "source": [
    "# NDVI Calculation"
   ]
  },
  {
   "cell_type": "code",
   "execution_count": 1,
   "metadata": {
    "pycharm": {
     "name": "#%%\n"
    }
   },
   "outputs": [],
   "source": [
    "import sys\n",
    "sys.path.append('../')"
   ]
  },
  {
   "cell_type": "code",
   "execution_count": 25,
   "metadata": {
    "pycharm": {
     "name": "#%%\n"
    }
   },
   "outputs": [],
   "source": [
    "import datetime as dt\n",
    "from pathlib import Path\n",
    "import matplotlib.pyplot as plt\n",
    "import numpy as np\n",
    "import rasterio\n",
    "import lithops\n",
    "import time\n",
    "import shutil\n",
    "import pylab\n",
    "import os\n",
    "import gc\n",
    "from rasterio.io import MemoryFile\n",
    "from concurrent.futures import ThreadPoolExecutor\n",
    "from PIL import Image\n",
    "from lithops import Storage\n",
    "\n",
    "import cloudbutton_geospatial.s2froms3 as s2froms3\n",
    "from cloudbutton_geospatial.utils import notebook as notebook_utils\n",
    "from cloudbutton_geospatial.io_utils.ndvi import get_ndvi_params, ndvi_calculation, ndvi_tile_sentinel, get_subset_raster, lonlat_to_utm, get_poly_within\n",
    "from cloudbutton_geospatial.io_utils.plot import tiff_overview, plot_map\n",
    "\n",
    "%matplotlib inline"
   ]
  },
  {
   "cell_type": "markdown",
   "metadata": {
    "pycharm": {
     "name": "#%% md\n"
    }
   },
   "source": [
    "## Input parameters"
   ]
  },
  {
   "cell_type": "markdown",
   "metadata": {
    "pycharm": {
     "name": "#%% md\n"
    }
   },
   "source": [
    "Select the date interval in which tiles will be processed:"
   ]
  },
  {
   "cell_type": "code",
   "execution_count": 3,
   "metadata": {
    "pycharm": {
     "name": "#%%\n"
    }
   },
   "outputs": [
    {
     "data": {
      "application/vnd.jupyter.widget-view+json": {
       "model_id": "04905729d05a43c6bd9a14e592fa0e58",
       "version_major": 2,
       "version_minor": 0
      },
      "text/plain": [
       "DatePicker(value=datetime.date(2019, 9, 17), description='From day')"
      ]
     },
     "metadata": {},
     "output_type": "display_data"
    },
    {
     "data": {
      "application/vnd.jupyter.widget-view+json": {
       "model_id": "b11dc9dc13ab46cb84802ffbb49dd698",
       "version_major": 2,
       "version_minor": 0
      },
      "text/plain": [
       "DatePicker(value=datetime.date(2021, 9, 16), description='To day')"
      ]
     },
     "metadata": {},
     "output_type": "display_data"
    }
   ],
   "source": [
    "from_date, to_date = notebook_utils.pick_date_range()"
   ]
  },
  {
   "cell_type": "markdown",
   "metadata": {
    "pycharm": {
     "name": "#%% md\n"
    }
   },
   "source": [
    "Select the tile's cloud percentage threshold:"
   ]
  },
  {
   "cell_type": "code",
   "execution_count": 4,
   "metadata": {
    "pycharm": {
     "name": "#%%\n"
    }
   },
   "outputs": [
    {
     "data": {
      "application/vnd.jupyter.widget-view+json": {
       "model_id": "1a46c2c369ee48d4ac37d3616ffc4527",
       "version_major": 2,
       "version_minor": 0
      },
      "text/plain": [
       "IntSlider(value=0, continuous_update=False, description='Percentage of cloudiness')"
      ]
     },
     "metadata": {},
     "output_type": "display_data"
    }
   ],
   "source": [
    "percentage = notebook_utils.pick_percentage_slider()"
   ]
  },
  {
   "cell_type": "markdown",
   "metadata": {
    "pycharm": {
     "name": "#%% md\n"
    }
   },
   "source": [
    "Select the area which delimites the tiles you want to process (left click to mark a point in the map, right click to erase current selection):"
   ]
  },
  {
   "cell_type": "code",
   "execution_count": 5,
   "metadata": {
    "pycharm": {
     "name": "#%%\n"
    },
    "scrolled": true
   },
   "outputs": [
    {
     "data": {
      "application/vnd.jupyter.widget-view+json": {
       "model_id": "05302d4be6c14faeb0f7c52b6813aeb8",
       "version_major": 2,
       "version_minor": 0
      },
      "text/plain": [
       "Map(center=[39.60595289727246, -122.82804126978336], controls=(ZoomControl(options=['position', 'zoom_in_text'…"
      ]
     },
     "metadata": {},
     "output_type": "display_data"
    }
   ],
   "source": [
    "map_region = notebook_utils.MapRegion()"
   ]
  },
  {
   "cell_type": "code",
   "execution_count": 6,
   "metadata": {
    "pycharm": {
     "name": "#%%\n"
    }
   },
   "outputs": [
    {
     "name": "stdout",
     "output_type": "stream",
     "text": [
      "[39.55800070006127, -122.61826429016692] 2019-09-17 2021-09-16 ['B04', 'B08'] 0\n"
     ]
    }
   ],
   "source": [
    "coord = map_region.get_region()[0] #[-122.72001061072717, 39.25990481501755] \n",
    "lat = coord[1]  # latitude\n",
    "lon = coord[0]  # longitude\n",
    "\n",
    "start_date = from_date.value  # Start date to search images\n",
    "end_date = to_date.value  # End date to search images\n",
    "what = ['B04', 'B08']  # What we want to download\n",
    "cc = percentage.value  # Minimum cloud cover on each image, 25 is 25%\n",
    "\n",
    "print([lat, lon], start_date, end_date, what, cc)"
   ]
  },
  {
   "cell_type": "code",
   "execution_count": 7,
   "metadata": {},
   "outputs": [
    {
     "data": {
      "text/plain": [
       "[[-122.61826429016692, 39.55800070006127],\n",
       " [-122.61826429016692, 39.55800070006127]]"
      ]
     },
     "execution_count": 7,
     "metadata": {},
     "output_type": "execute_result"
    }
   ],
   "source": [
    " map_region.get_region()"
   ]
  },
  {
   "cell_type": "markdown",
   "metadata": {
    "pycharm": {
     "name": "#%% md\n"
    }
   },
   "source": [
    "## Get Sentinel-2 packages"
   ]
  },
  {
   "cell_type": "code",
   "execution_count": 8,
   "metadata": {},
   "outputs": [],
   "source": [
    "storage = lithops.storage.Storage()"
   ]
  },
  {
   "cell_type": "code",
   "execution_count": 9,
   "metadata": {
    "pycharm": {
     "name": "#%%\n"
    }
   },
   "outputs": [
    {
     "name": "stdout",
     "output_type": "stream",
     "text": [
      "Found scenes 2019-09-17: [('sentinel-cogs/sentinel-s2-l2a-cogs/10/S/EJ/2019/9/S2A_10SEJ_20190917_0_L2A/B04.tif', 'sentinel-cogs/sentinel-s2-l2a-cogs/10/S/EJ/2019/9/S2A_10SEJ_20190917_0_L2A/B08.tif')]\n",
      "Found scenes 2021-09-16: [('sentinel-cogs/sentinel-s2-l2a-cogs/10/S/EJ/2021/9/S2A_10SEJ_20210916_0_L2A/B04.tif', 'sentinel-cogs/sentinel-s2-l2a-cogs/10/S/EJ/2021/9/S2A_10SEJ_20210916_0_L2A/B08.tif')]\n"
     ]
    }
   ],
   "source": [
    "# Get scenes from intital date\n",
    "scenes_f1 = s2froms3.get_scene_list(lon=lon, lat=lat,\n",
    "                                    start_date=start_date,\n",
    "                                    end_date=start_date,\n",
    "                                    what=what,\n",
    "                                    cloud_cover_le=cc)\n",
    "print(f'Found scenes {start_date}:', scenes_f1)\n",
    "\n",
    "# get scenes from end date\n",
    "scenes_f2 = s2froms3.get_scene_list(lon=lon, lat=lat,\n",
    "                                    start_date=end_date,\n",
    "                                    end_date=end_date,\n",
    "                                    what=what,\n",
    "                                    cloud_cover_le=cc)\n",
    "print(f'Found scenes {end_date}:', scenes_f2)\n",
    "\n",
    "scene = scenes_f1[-1]\n",
    "scene_band = rasterio.open('s3://'+scene[0])\n",
    "windows = list(scene_band.block_windows())"
   ]
  },
  {
   "cell_type": "code",
   "execution_count": 10,
   "metadata": {},
   "outputs": [],
   "source": [
    "obj = storage.get_object('sentinel-cogs', scene[0].replace('sentinel-cogs/', ''))\n",
    "obj2 = storage.get_object('sentinel-cogs', scene[1].replace('sentinel-cogs/', ''))\n",
    "get_sz = len(obj) + len(obj2)"
   ]
  },
  {
   "cell_type": "code",
   "execution_count": 11,
   "metadata": {},
   "outputs": [
    {
     "name": "stdout",
     "output_type": "stream",
     "text": [
      "462804282 bytes\n",
      "441.36455726623535 megabytes\n",
      "0.44136455726623536 gigabytes\n"
     ]
    }
   ],
   "source": [
    "print(str(get_sz) + \" bytes\")\n",
    "mb = get_sz / 2**20\n",
    "print(str(mb) + \" megabytes\")\n",
    "gb = mb / 1000\n",
    "print(str(gb) + \" gigabytes\")"
   ]
  },
  {
   "cell_type": "code",
   "execution_count": 12,
   "metadata": {
    "pycharm": {
     "name": "#%%\n"
    }
   },
   "outputs": [],
   "source": [
    "def calculate_ndvi(scene, ij_window, storage):\n",
    "\n",
    "    ij, window = ij_window\n",
    "    band_4_s3_loc, band_8_s3_loc = scene\n",
    "    band_path = band_4_s3_loc.split('/')\n",
    "    ndvi_local = f'/tmp/{band_path[7]}_{ij}_NDVI.tif'\n",
    "    jpg_local = f'/tmp/{band_path[7]}_{ij}_NDVI.jpg'\n",
    "\n",
    "    # generate nir and red objects as arrays in float64 format\n",
    "    # Read from S3 to lambda\n",
    "    \n",
    "    get_t0 = time.time()\n",
    "    band4 = rasterio.open('s3://'+band_4_s3_loc)  # red\n",
    "    band8 = rasterio.open('s3://'+band_8_s3_loc)  # nir\n",
    "    \n",
    "    \n",
    "    profile = band4.profile\n",
    "    profile.update(dtype='float64')\n",
    "    profile.update(width=window.width)\n",
    "    profile.update(height=window.height)\n",
    "\n",
    "    with rasterio.open(ndvi_local, 'w', **profile) as dst:\n",
    "        red = band4.read(1, window=window).astype('float64')\n",
    "        nir = band8.read(1, window=window).astype('float64')\n",
    "        get_t1 = time.time()\n",
    "        ndvi = (np.where((nir + red) == 0., 0, (nir - red) / (nir + red))).astype('float64')\n",
    "        ndvi_mean = np.mean(ndvi, axis=0)\n",
    "        dst.write(ndvi, 1)\n",
    "        ndvi[0][0] = -1\n",
    "        ndvi[0][1] = 1\n",
    "        plt.imsave(jpg_local, ndvi, cmap=\"RdYlGn\")\n",
    "    \n",
    "    # THROUGHPUT WRITE    \n",
    "    with open(jpg_local, 'rb') as jpg_temp:\n",
    "        put_t0 = time.time()\n",
    "        co_jpg = storage.put_cloudobject(jpg_temp.read(), key=jpg_local.replace('/tmp/', ''))\n",
    "        put_t1 = time.time()\n",
    "        \n",
    "        obj_metadata = storage.head_object('daniel-lithops-geospatial', jpg_local.replace('/tmp/', ''))\n",
    "        put_sz = float(obj_metadata.get('content-length'))\n",
    "    \n",
    "    write_bandwidth_mb = put_sz / (put_t1 - put_t0) / 1e6\n",
    "          \n",
    "    stats = {\n",
    "        'put': {'t0': put_t0, 't1': put_t1, 'bandwidth': write_bandwidth_mb, 'size': put_sz},\n",
    "        'get': {'t0': get_t0, 't1': get_t1, 'bandwidth': 0, 'size': 0},\n",
    "    }\n",
    "    \n",
    "    return ndvi_local, ndvi_mean, co_jpg, stats \n",
    "\n",
    "\n",
    "def compute_ndvi_diff(old_scene, new_scene, ij_window, storage):\n",
    "\n",
    "    ij, window = ij_window\n",
    "    band_path = new_scene[0].split('/')\n",
    "    jpg_diff_local = f'/tmp/{band_path[7]}_{ij}_NDVI_DIFF.jpg'\n",
    "\n",
    "    ndvi_local_f1, ndvi_mean_f1, co_jpg_f1, stats_f1 = calculate_ndvi(old_scene, ij_window, storage)\n",
    "    ndvi_local_f2, ndvi_mean_f2, co_jpg_f2, stats_f2 = calculate_ndvi(new_scene, ij_window, storage)     \n",
    "          \n",
    "    ndvi_old = rasterio.open(ndvi_local_f1)\n",
    "    ndvi_new = rasterio.open(ndvi_local_f2)\n",
    "\n",
    "    profile = ndvi_old.profile\n",
    "    profile.update(dtype='float64')\n",
    "    profile.update(width=window.width)\n",
    "    profile.update(height=window.height)\n",
    "\n",
    "    no = ndvi_old.read(1).astype('float64')\n",
    "    nn = ndvi_new.read(1).astype('float64')\n",
    "    ndvi_cmp = ((nn - no) * (nn + no)).astype('float64')\n",
    "    ndvi_cmp[0][0] = -1\n",
    "    ndvi_cmp[0][1] = 1\n",
    "    plt.imsave(jpg_diff_local, ndvi_cmp, cmap=\"RdYlGn\")\n",
    "\n",
    "    # esto realmente solo lo usa para mostrar la imagen en el codigo final, se pueden ahorrar muchos puts con esto \n",
    "    #with open(jpg_diff_local, 'rb') as jpg_diff_file:\n",
    "        #co_jpg_diff = storage.put_cloudobject(jpg_diff_file, key=jpg_diff_local.replace('/tmp/', ''))\n",
    "\n",
    "    co_jpg_diff=\"\"\n",
    "    return ij_window, co_jpg_f1, co_jpg_f2, co_jpg_diff, stats_f1, stats_f2"
   ]
  },
  {
   "cell_type": "markdown",
   "metadata": {
    "pycharm": {
     "name": "#%% md\n"
    }
   },
   "source": [
    "Using the selected parameters, get the identifiers of the selected tiles from Sentinel-2:"
   ]
  },
  {
   "cell_type": "code",
   "execution_count": null,
   "outputs": [],
   "source": [
    "fexec = lithops.FunctionExecutor(\n",
    "        backend='aws_lambda',\n",
    "        storage='aws_s3',\n",
    "        log_level='DEBUG',\n",
    "        monitoring='rabbitmq',\n",
    "        runtime='aws_lambda/lithops-ndvi-v39:01'  # Runtime for AWS Lambda\n",
    ")\n",
    "    #runtime_memory=1024,\n",
    "    #max_workers=10,\n",
    "\n",
    "iterdata = [(scenes_f1[0], scenes_f2[0], wd) for wd in windows]\n",
    "fexec.map(compute_ndvi_diff, iterdata)\n",
    "results = fexec.get_result()"
   ],
   "metadata": {
    "collapsed": false,
    "pycharm": {
     "name": "#%%\n"
    }
   }
  },
  {
   "cell_type": "code",
   "execution_count": null,
   "outputs": [],
   "source": [
    "# Plots\n",
    "fexec.plot(dst='C:\\\\Users\\\\alega\\\\Desktop\\\\lithops' + str([lat, lon]))"
   ],
   "metadata": {
    "collapsed": false,
    "pycharm": {
     "name": "#%%\n"
    }
   }
  },
  {
   "cell_type": "code",
   "execution_count": null,
   "outputs": [],
   "source": [
    "list_throughput = []\n",
    "for worker in results:\n",
    "    list_throughput.append(worker[4])\n",
    "    list_throughput.append(worker[5])\n",
    "\n",
    "list_throughput"
   ],
   "metadata": {
    "collapsed": false,
    "pycharm": {
     "name": "#%%\n"
    }
   }
  },
  {
   "cell_type": "code",
   "execution_count": null,
   "outputs": [],
   "source": [
    "write_results"
   ],
   "metadata": {
    "collapsed": false,
    "pycharm": {
     "name": "#%%\n"
    }
   }
  },
  {
   "cell_type": "code",
   "execution_count": null,
   "outputs": [],
   "source": [
    "read_results = [stat['get'] for stat in list_throughput]\n",
    "write_results = [stat['put'] for stat in list_throughput]"
   ],
   "metadata": {
    "collapsed": false,
    "pycharm": {
     "name": "#%%\n"
    }
   }
  },
  {
   "cell_type": "code",
   "execution_count": null,
   "outputs": [],
   "source": [
    "def create_agg_bdwth_plot(res_write, res_read, dst):\n",
    "    def compute_times_rates(start_time, d):\n",
    "        x = np.array(d)\n",
    "        tzero = start_time\n",
    "        tr_start_time = x[:, 0] - tzero\n",
    "        tr_end_time = x[:, 1] - tzero\n",
    "        rate = x[:, 2]\n",
    "\n",
    "        N = len(tr_start_time)\n",
    "        runtime_rate_hist = np.zeros((N, len(runtime_bins)))\n",
    "\n",
    "        for i in range(N):\n",
    "            s = tr_start_time[i]\n",
    "            e = tr_end_time[i]\n",
    "            a, b = np.searchsorted(runtime_bins, [s, e])\n",
    "            if b-a > 0:\n",
    "                runtime_rate_hist[i, a:b] = rate[i]\n",
    "\n",
    "        return {'start_time': tr_start_time,\n",
    "                'end_time': tr_end_time,\n",
    "                'rate': rate,\n",
    "                'runtime_rate_hist': runtime_rate_hist}\n",
    "    \n",
    "    start_time = min((min(t['t0'] for t in res_write), (min(t['t0'] for t in res_read)))) - 1\n",
    "\n",
    "    fig = pylab.figure(figsize=(8, 6))\n",
    "    ax = fig.add_subplot(1, 1, 1)\n",
    "    for datum, l in [(res_write, 'Aggregate Write Bandwidth'), (res_read, 'Aggregate Read Bandwidth')]:\n",
    "        mb_rates = [(res['t0'], res['t1'], res['bandwidth']) for res in datum]\n",
    "        max_seconds = int(max([mr[1]-start_time for mr in mb_rates])*1.2)\n",
    "        max_seconds = 8 * round(max_seconds/8)\n",
    "        runtime_bins = np.linspace(0, max_seconds, max_seconds)\n",
    "\n",
    "        mb_rates_hist = compute_times_rates(start_time, mb_rates)\n",
    "\n",
    "        ax.plot(mb_rates_hist['runtime_rate_hist'].sum(axis=0)/1000, label=l)\n",
    "\n",
    "    ax.set_xlabel('Execution Time (sec)')\n",
    "    ax.set_ylabel(\"GB/sec\")\n",
    "    ax.set_xlim(0, )\n",
    "    ax.set_ylim(0, )\n",
    "    pylab.legend()\n",
    "    pylab.grid(True, axis='y')\n",
    "\n",
    "    dst = os.path.expanduser(dst) if '~' in dst else dst\n",
    "\n",
    "    fig.tight_layout()\n",
    "    fig.savefig(dst, format='pdf')"
   ],
   "metadata": {
    "collapsed": false,
    "pycharm": {
     "name": "#%%\n"
    }
   }
  },
  {
   "cell_type": "code",
   "execution_count": null,
   "outputs": [],
   "source": [
    "# Statistics: \n",
    "startTime = set()\n",
    "endTime = set()\n",
    "\n",
    "for future in fexec.futures:\n",
    "    for key in future.stats.keys():\n",
    "        if key.endswith(\"worker_func_start_tstamp\"):\n",
    "            startTime.add(future.stats[key])\n",
    "        if key.endswith(\"worker_end_tstamp\"):\n",
    "            endTime.add(future.stats[key])\n",
    "            \n",
    "            \n",
    "duration = max(endTime) - min(startTime)"
   ],
   "metadata": {
    "collapsed": false,
    "pycharm": {
     "name": "#%%\n"
    }
   }
  },
  {
   "cell_type": "code",
   "execution_count": null,
   "outputs": [],
   "source": [
    "# Duration: \n",
    "print(duration)"
   ],
   "metadata": {
    "collapsed": false,
    "pycharm": {
     "name": "#%%\n"
    }
   }
  },
  {
   "cell_type": "code",
   "execution_count": null,
   "outputs": [],
   "source": [
    "# Number of workers:\n",
    "numberWorkers=len(fexec.futures)\n",
    "numberWorkers"
   ],
   "metadata": {
    "collapsed": false,
    "pycharm": {
     "name": "#%%\n"
    }
   }
  },
  {
   "cell_type": "code",
   "execution_count": null,
   "outputs": [],
   "source": [
    "# THROUGHPUT READ\n",
    "size_total_read = 0\n",
    "for value in read_results:\n",
    "    size_per_worker = get_sz / numberWorkers\n",
    "    size_total_read = size_total_read + size_per_worker\n",
    "    value['size'] = size_per_worker\n",
    "    value['bandwidth'] = size_per_worker / (value.get('t1') - value.get('t0')) / 1e6"
   ],
   "metadata": {
    "collapsed": false,
    "pycharm": {
     "name": "#%%\n"
    }
   }
  },
  {
   "cell_type": "code",
   "execution_count": null,
   "outputs": [],
   "source": [
    "# Size total write\n",
    "size_total_write = 0\n",
    "for value in write_results:\n",
    "    size_total_write = size_total_write + value.get('size')"
   ],
   "metadata": {
    "collapsed": false,
    "pycharm": {
     "name": "#%%\n"
    }
   }
  },
  {
   "cell_type": "code",
   "execution_count": null,
   "outputs": [],
   "source": [
    "read_results"
   ],
   "metadata": {
    "collapsed": false,
    "pycharm": {
     "name": "#%%\n"
    }
   }
  },
  {
   "cell_type": "code",
   "execution_count": null,
   "outputs": [],
   "source": [
    "create_agg_bdwth_plot(read_results, write_results, fexec.executor_id + '-storage-kpi.pdf')"
   ],
   "metadata": {
    "collapsed": false,
    "pycharm": {
     "name": "#%%\n"
    }
   }
  },
  {
   "cell_type": "code",
   "execution_count": null,
   "outputs": [],
   "source": [
    "# Throughput read numeric:\n",
    "throughput_interpolation = size_total_read / duration  # Bytes/second\n",
    "print(f\"Throughput: {throughput_interpolation / 1024**2} MiB/s\")"
   ],
   "metadata": {
    "collapsed": false,
    "pycharm": {
     "name": "#%%\n"
    }
   }
  },
  {
   "cell_type": "code",
   "execution_count": null,
   "outputs": [],
   "source": [
    "# Throughput write numeric:\n",
    "throughput_interpolation = size_total_write / duration  # Bytes/second\n",
    "print(f\"Throughput: {throughput_interpolation / 1024**2} MiB/s\")"
   ],
   "metadata": {
    "collapsed": false,
    "pycharm": {
     "name": "#%%\n"
    }
   }
  },
  {
   "cell_type": "code",
   "execution_count": 24,
   "metadata": {},
   "outputs": [
    {
     "data": {
      "text/plain": [
       "[{'t0': 1654794731.4684596,\n",
       "  't1': 1654794734.0678723,\n",
       "  'bandwidth': 1.4714203738291278,\n",
       "  'size': 3824828.776859504},\n",
       " {'t0': 1654794737.3055403,\n",
       "  't1': 1654794738.9684892,\n",
       "  'bandwidth': 2.300027919788666,\n",
       "  'size': 3824828.776859504},\n",
       " {'t0': 1654794734.5747843,\n",
       "  't1': 1654794737.4326801,\n",
       "  'bandwidth': 1.3383373559047478,\n",
       "  'size': 3824828.776859504},\n",
       " {'t0': 1654794741.8726866,\n",
       "  't1': 1654794743.3355887,\n",
       "  'bandwidth': 2.6145487505079856,\n",
       "  'size': 3824828.776859504},\n",
       " {'t0': 1654794735.0756824,\n",
       "  't1': 1654794737.9782171,\n",
       "  'bandwidth': 1.3177547011512811,\n",
       "  'size': 3824828.776859504},\n",
       " {'t0': 1654794742.696182,\n",
       "  't1': 1654794744.197554,\n",
       "  'bandwidth': 2.5475555191174197,\n",
       "  'size': 3824828.776859504},\n",
       " {'t0': 1654794735.1707919,\n",
       "  't1': 1654794737.8923607,\n",
       "  'bandwidth': 1.405376466959641,\n",
       "  'size': 3824828.776859504},\n",
       " {'t0': 1654794742.3802657,\n",
       "  't1': 1654794743.693429,\n",
       "  'bandwidth': 2.912683314934645,\n",
       "  'size': 3824828.776859504},\n",
       " {'t0': 1654794734.9016845,\n",
       "  't1': 1654794737.8600368,\n",
       "  'bandwidth': 1.2928915672089003,\n",
       "  'size': 3824828.776859504},\n",
       " {'t0': 1654794742.0217624,\n",
       "  't1': 1654794743.3619714,\n",
       "  'bandwidth': 2.8539046940671717,\n",
       "  'size': 3824828.776859504},\n",
       " {'t0': 1654794734.676855,\n",
       "  't1': 1654794737.479117,\n",
       "  'bandwidth': 1.3649077101802813,\n",
       "  'size': 3824828.776859504},\n",
       " {'t0': 1654794741.7794542,\n",
       "  't1': 1654794743.1366234,\n",
       "  'bandwidth': 2.818240285802586,\n",
       "  'size': 3824828.776859504},\n",
       " {'t0': 1654794735.4451864,\n",
       "  't1': 1654794738.1046672,\n",
       "  'bandwidth': 1.4381862663719016,\n",
       "  'size': 3824828.776859504},\n",
       " {'t0': 1654794742.395864,\n",
       "  't1': 1654794743.6033993,\n",
       "  'bandwidth': 3.1674675529386183,\n",
       "  'size': 3824828.776859504},\n",
       " {'t0': 1654794734.6895103,\n",
       "  't1': 1654794737.2874863,\n",
       "  'bandwidth': 1.472234086086874,\n",
       "  'size': 3824828.776859504},\n",
       " {'t0': 1654794741.6405084,\n",
       "  't1': 1654794742.8698041,\n",
       "  'bandwidth': 3.1113984061599456,\n",
       "  'size': 3824828.776859504},\n",
       " {'t0': 1654794734.4111822,\n",
       "  't1': 1654794737.4116652,\n",
       "  'bandwidth': 1.274737677539367,\n",
       "  'size': 3824828.776859504},\n",
       " {'t0': 1654794741.7965407,\n",
       "  't1': 1654794743.3511128,\n",
       "  'bandwidth': 2.460373992016519,\n",
       "  'size': 3824828.776859504},\n",
       " {'t0': 1654794735.4400463,\n",
       "  't1': 1654794738.3201723,\n",
       "  'bandwidth': 1.3280074474481325,\n",
       "  'size': 3824828.776859504},\n",
       " {'t0': 1654794742.778435,\n",
       "  't1': 1654794744.1411831,\n",
       "  'bandwidth': 2.806702608934726,\n",
       "  'size': 3824828.776859504},\n",
       " {'t0': 1654794734.881106,\n",
       "  't1': 1654794737.8198712,\n",
       "  'bandwidth': 1.3015087639899094,\n",
       "  'size': 3824828.776859504},\n",
       " {'t0': 1654794741.1365223,\n",
       "  't1': 1654794742.4790776,\n",
       "  'bandwidth': 2.848917151507556,\n",
       "  'size': 3824828.776859504},\n",
       " {'t0': 1654794734.8336623,\n",
       "  't1': 1654794737.5155766,\n",
       "  'bandwidth': 1.4261562104153778,\n",
       "  'size': 3824828.776859504},\n",
       " {'t0': 1654794741.6725347,\n",
       "  't1': 1654794742.8361585,\n",
       "  'bandwidth': 3.2869976916933283,\n",
       "  'size': 3824828.776859504},\n",
       " {'t0': 1654794735.2281208,\n",
       "  't1': 1654794738.2107797,\n",
       "  'bandwidth': 1.2823554259657157,\n",
       "  'size': 3824828.776859504},\n",
       " {'t0': 1654794742.822432,\n",
       "  't1': 1654794744.2896585,\n",
       "  'bandwidth': 2.6068427492936985,\n",
       "  'size': 3824828.776859504},\n",
       " {'t0': 1654794735.455625,\n",
       "  't1': 1654794738.3557665,\n",
       "  'bandwidth': 1.3188421345722487,\n",
       "  'size': 3824828.776859504},\n",
       " {'t0': 1654794742.894823,\n",
       "  't1': 1654794744.2762876,\n",
       "  'bandwidth': 2.768676884918084,\n",
       "  'size': 3824828.776859504},\n",
       " {'t0': 1654794733.6191037,\n",
       "  't1': 1654794736.4804015,\n",
       "  'bandwidth': 1.3367461141522756,\n",
       "  'size': 3824828.776859504},\n",
       " {'t0': 1654794740.5592926,\n",
       "  't1': 1654794742.039466,\n",
       "  'bandwidth': 2.5840411046857015,\n",
       "  'size': 3824828.776859504},\n",
       " {'t0': 1654794734.7418547,\n",
       "  't1': 1654794737.683363,\n",
       "  'bandwidth': 1.3002950852676884,\n",
       "  'size': 3824828.776859504},\n",
       " {'t0': 1654794741.9976277,\n",
       "  't1': 1654794743.421017,\n",
       "  'bandwidth': 2.687127868150364,\n",
       "  'size': 3824828.776859504},\n",
       " {'t0': 1654794735.1551962,\n",
       "  't1': 1654794737.936366,\n",
       "  'bandwidth': 1.3752589472312666,\n",
       "  'size': 3824828.776859504},\n",
       " {'t0': 1654794742.252185,\n",
       "  't1': 1654794743.4765844,\n",
       "  'bandwidth': 3.1238409632117685,\n",
       "  'size': 3824828.776859504},\n",
       " {'t0': 1654794735.0926168,\n",
       "  't1': 1654794737.8307586,\n",
       "  'bandwidth': 1.3968702466753018,\n",
       "  'size': 3824828.776859504},\n",
       " {'t0': 1654794742.1907756,\n",
       "  't1': 1654794743.4702394,\n",
       "  'bandwidth': 2.989399834918536,\n",
       "  'size': 3824828.776859504},\n",
       " {'t0': 1654794733.6836853,\n",
       "  't1': 1654794736.3654144,\n",
       "  'bandwidth': 1.4262547278990387,\n",
       "  'size': 3824828.776859504},\n",
       " {'t0': 1654794740.5325203,\n",
       "  't1': 1654794741.8859153,\n",
       "  'bandwidth': 2.826099415683281,\n",
       "  'size': 3824828.776859504},\n",
       " {'t0': 1654794736.219083,\n",
       "  't1': 1654794739.157598,\n",
       "  'bandwidth': 1.3016196428077773,\n",
       "  'size': 3824828.776859504},\n",
       " {'t0': 1654794743.6233106,\n",
       "  't1': 1654794745.0557525,\n",
       "  'bandwidth': 2.6701457446670593,\n",
       "  'size': 3824828.776859504},\n",
       " {'t0': 1654794736.186566,\n",
       "  't1': 1654794739.1476097,\n",
       "  'bandwidth': 1.2917164683696576,\n",
       "  'size': 3824828.776859504},\n",
       " {'t0': 1654794743.562364,\n",
       "  't1': 1654794744.9927669,\n",
       "  'bandwidth': 2.6739523267263188,\n",
       "  'size': 3824828.776859504},\n",
       " {'t0': 1654794735.1734035,\n",
       "  't1': 1654794737.8910575,\n",
       "  'bandwidth': 1.4074009389077622,\n",
       "  'size': 3824828.776859504},\n",
       " {'t0': 1654794741.2035031,\n",
       "  't1': 1654794742.3527148,\n",
       "  'bandwidth': 3.3282196478604322,\n",
       "  'size': 3824828.776859504},\n",
       " {'t0': 1654794734.930446,\n",
       "  't1': 1654794737.8704884,\n",
       "  'bandwidth': 1.3009433647363038,\n",
       "  'size': 3824828.776859504},\n",
       " {'t0': 1654794742.389479,\n",
       "  't1': 1654794743.6688955,\n",
       "  'bandwidth': 2.989510135378579,\n",
       "  'size': 3824828.776859504},\n",
       " {'t0': 1654794733.591928,\n",
       "  't1': 1654794736.2919862,\n",
       "  'bandwidth': 1.4165727042306397,\n",
       "  'size': 3824828.776859504},\n",
       " {'t0': 1654794740.5180948,\n",
       "  't1': 1654794741.928928,\n",
       "  'bandwidth': 2.71104266103513,\n",
       "  'size': 3824828.776859504},\n",
       " {'t0': 1654794735.1364655,\n",
       "  't1': 1654794737.9960623,\n",
       "  'bandwidth': 1.3375413175215283,\n",
       "  'size': 3824828.776859504},\n",
       " {'t0': 1654794742.495754,\n",
       "  't1': 1654794743.8349683,\n",
       "  'bandwidth': 2.8560243910166943,\n",
       "  'size': 3824828.776859504},\n",
       " {'t0': 1654794735.755793,\n",
       "  't1': 1654794738.4959521,\n",
       "  'bandwidth': 1.3958418939861905,\n",
       "  'size': 3824828.776859504},\n",
       " {'t0': 1654794742.861108,\n",
       "  't1': 1654794744.175781,\n",
       "  'bandwidth': 2.909338619761951,\n",
       "  'size': 3824828.776859504},\n",
       " {'t0': 1654794735.2056417,\n",
       "  't1': 1654794738.20716,\n",
       "  'bandwidth': 1.2742980248351714,\n",
       "  'size': 3824828.776859504},\n",
       " {'t0': 1654794742.4514375,\n",
       "  't1': 1654794743.8091595,\n",
       "  'bandwidth': 2.8170926396806792,\n",
       "  'size': 3824828.776859504},\n",
       " {'t0': 1654794735.2343686,\n",
       "  't1': 1654794737.95485,\n",
       "  'bandwidth': 1.4059382221377812,\n",
       "  'size': 3824828.776859504},\n",
       " {'t0': 1654794742.397584,\n",
       "  't1': 1654794743.714995,\n",
       "  'bandwidth': 2.9032920887633873,\n",
       "  'size': 3824828.776859504},\n",
       " {'t0': 1654794736.030559,\n",
       "  't1': 1654794738.9119294,\n",
       "  'bandwidth': 1.3274339535168285,\n",
       "  'size': 3824828.776859504},\n",
       " {'t0': 1654794743.3281612,\n",
       "  't1': 1654794744.5905738,\n",
       "  'bandwidth': 3.0297772172191735,\n",
       "  'size': 3824828.776859504},\n",
       " {'t0': 1654794735.3966718,\n",
       "  't1': 1654794738.1982217,\n",
       "  'bandwidth': 1.3652545546878925,\n",
       "  'size': 3824828.776859504},\n",
       " {'t0': 1654794742.6208684,\n",
       "  't1': 1654794744.0148478,\n",
       "  'bandwidth': 2.7438203327026596,\n",
       "  'size': 3824828.776859504},\n",
       " {'t0': 1654794735.2087147,\n",
       "  't1': 1654794737.9695902,\n",
       "  'bandwidth': 1.385368093362133,\n",
       "  'size': 3824828.776859504},\n",
       " {'t0': 1654794742.2875133,\n",
       "  't1': 1654794743.5291886,\n",
       "  'bandwidth': 3.080377406237241,\n",
       "  'size': 3824828.776859504},\n",
       " {'t0': 1654794734.574437,\n",
       "  't1': 1654794737.4351687,\n",
       "  'bandwidth': 1.3370105940026837,\n",
       "  'size': 3824828.776859504},\n",
       " {'t0': 1654794741.7724547,\n",
       "  't1': 1654794743.135067,\n",
       "  'bandwidth': 2.8069825322423716,\n",
       "  'size': 3824828.776859504},\n",
       " {'t0': 1654794735.7480645,\n",
       "  't1': 1654794738.505933,\n",
       "  'bandwidth': 1.3868785757983686,\n",
       "  'size': 3824828.776859504},\n",
       " {'t0': 1654794741.8989804,\n",
       "  't1': 1654794743.2244203,\n",
       "  'bandwidth': 2.885705108468178,\n",
       "  'size': 3824828.776859504},\n",
       " {'t0': 1654794735.918758,\n",
       "  't1': 1654794738.6965635,\n",
       "  'bandwidth': 1.3769245848558693,\n",
       "  'size': 3824828.776859504},\n",
       " {'t0': 1654794743.0779846,\n",
       "  't1': 1654794744.2387817,\n",
       "  'bandwidth': 3.295001954942089,\n",
       "  'size': 3824828.776859504},\n",
       " {'t0': 1654794735.2349465,\n",
       "  't1': 1654794737.9135969,\n",
       "  'bandwidth': 1.4278939896699323,\n",
       "  'size': 3824828.776859504},\n",
       " {'t0': 1654794742.2787833,\n",
       "  't1': 1654794743.5153089,\n",
       "  'bandwidth': 3.0932064618096464,\n",
       "  'size': 3824828.776859504},\n",
       " {'t0': 1654794734.736995,\n",
       "  't1': 1654794737.676964,\n",
       "  'bandwidth': 1.3009758589806515,\n",
       "  'size': 3824828.776859504},\n",
       " {'t0': 1654794741.9959235,\n",
       "  't1': 1654794743.4348633,\n",
       "  'bandwidth': 2.6580880943124807,\n",
       "  'size': 3824828.776859504},\n",
       " {'t0': 1654794735.4127257,\n",
       "  't1': 1654794738.2119172,\n",
       "  'bandwidth': 1.3664048390888524,\n",
       "  'size': 3824828.776859504},\n",
       " {'t0': 1654794742.5758998,\n",
       "  't1': 1654794743.933019,\n",
       "  'bandwidth': 2.818344258533551,\n",
       "  'size': 3824828.776859504},\n",
       " {'t0': 1654794735.3465703,\n",
       "  't1': 1654794738.3272226,\n",
       "  'bandwidth': 1.2832186885414172,\n",
       "  'size': 3824828.776859504},\n",
       " {'t0': 1654794742.6749785,\n",
       "  't1': 1654794743.9273427,\n",
       "  'bandwidth': 3.0540867450586178,\n",
       "  'size': 3824828.776859504},\n",
       " {'t0': 1654794734.894179,\n",
       "  't1': 1654794737.8777742,\n",
       "  'bandwidth': 1.2819530152653287,\n",
       "  'size': 3824828.776859504},\n",
       " {'t0': 1654794742.2047756,\n",
       "  't1': 1654794743.8163059,\n",
       "  'bandwidth': 2.3734141191589546,\n",
       "  'size': 3824828.776859504},\n",
       " {'t0': 1654794734.7345293,\n",
       "  't1': 1654794738.074233,\n",
       "  'bandwidth': 1.1452598816737103,\n",
       "  'size': 3824828.776859504},\n",
       " {'t0': 1654794742.4721906,\n",
       "  't1': 1654794744.0925527,\n",
       "  'bandwidth': 2.3604778897926715,\n",
       "  'size': 3824828.776859504},\n",
       " {'t0': 1654794736.0290298,\n",
       "  't1': 1654794738.62859,\n",
       "  'bandwidth': 1.471336838993913,\n",
       "  'size': 3824828.776859504},\n",
       " {'t0': 1654794742.9272285,\n",
       "  't1': 1654794744.147314,\n",
       "  'bandwidth': 3.13488554524592,\n",
       "  'size': 3824828.776859504},\n",
       " {'t0': 1654794735.3320189,\n",
       "  't1': 1654794738.2938888,\n",
       "  'bandwidth': 1.2913560807494404,\n",
       "  'size': 3824828.776859504},\n",
       " {'t0': 1654794742.9126506,\n",
       "  't1': 1654794744.3921914,\n",
       "  'bandwidth': 2.5851458185640244,\n",
       "  'size': 3824828.776859504},\n",
       " {'t0': 1654794734.7520611,\n",
       "  't1': 1654794737.5705004,\n",
       "  'bandwidth': 1.3570733459452382,\n",
       "  'size': 3824828.776859504},\n",
       " {'t0': 1654794741.9763782,\n",
       "  't1': 1654794743.291767,\n",
       "  'bandwidth': 2.907755583163908,\n",
       "  'size': 3824828.776859504},\n",
       " {'t0': 1654794735.3744578,\n",
       "  't1': 1654794738.0514212,\n",
       "  'bandwidth': 1.4287938631710593,\n",
       "  'size': 3824828.776859504},\n",
       " {'t0': 1654794741.4317706,\n",
       "  't1': 1654794742.774778,\n",
       "  'bandwidth': 2.8479582370501384,\n",
       "  'size': 3824828.776859504},\n",
       " {'t0': 1654794735.123803,\n",
       "  't1': 1654794738.100894,\n",
       "  'bandwidth': 1.2847537014490813,\n",
       "  'size': 3824828.776859504},\n",
       " {'t0': 1654794742.4183664,\n",
       "  't1': 1654794743.741475,\n",
       "  'bandwidth': 2.890789588666574,\n",
       "  'size': 3824828.776859504},\n",
       " {'t0': 1654794734.9096122,\n",
       "  't1': 1654794737.6714056,\n",
       "  'bandwidth': 1.3849076514778633,\n",
       "  'size': 3824828.776859504},\n",
       " {'t0': 1654794741.923364,\n",
       "  't1': 1654794743.329613,\n",
       "  'bandwidth': 2.7198800858590477,\n",
       "  'size': 3824828.776859504},\n",
       " {'t0': 1654794735.3149445,\n",
       "  't1': 1654794738.2350504,\n",
       "  'bandwidth': 1.3098253498744858,\n",
       "  'size': 3824828.776859504},\n",
       " {'t0': 1654794742.6125185,\n",
       "  't1': 1654794744.0157468,\n",
       "  'bandwidth': 2.7257352373751185,\n",
       "  'size': 3824828.776859504},\n",
       " {'t0': 1654794736.5357838,\n",
       "  't1': 1654794739.4585764,\n",
       "  'bandwidth': 1.3086213100392212,\n",
       "  'size': 3824828.776859504},\n",
       " {'t0': 1654794743.8867304,\n",
       "  't1': 1654794745.2629805,\n",
       "  'bandwidth': 2.7791670825408876,\n",
       "  'size': 3824828.776859504},\n",
       " {'t0': 1654794735.7922134,\n",
       "  't1': 1654794738.6720173,\n",
       "  'bandwidth': 1.32815598389811,\n",
       "  'size': 3824828.776859504},\n",
       " {'t0': 1654794742.9404085,\n",
       "  't1': 1654794744.1329627,\n",
       "  'bandwidth': 3.207257718882178,\n",
       "  'size': 3824828.776859504},\n",
       " {'t0': 1654794735.161083,\n",
       "  't1': 1654794738.002442,\n",
       "  'bandwidth': 1.3461265934285949,\n",
       "  'size': 3824828.776859504},\n",
       " {'t0': 1654794742.1515722,\n",
       "  't1': 1654794743.621736,\n",
       "  'bandwidth': 2.601634402350728,\n",
       "  'size': 3824828.776859504},\n",
       " {'t0': 1654794735.3651865,\n",
       "  't1': 1654794738.16466,\n",
       "  'bandwidth': 1.3662671727170024,\n",
       "  'size': 3824828.776859504},\n",
       " {'t0': 1654794742.4703896,\n",
       "  't1': 1654794743.8670316,\n",
       "  'bandwidth': 2.7385893162967885,\n",
       "  'size': 3824828.776859504},\n",
       " {'t0': 1654794735.2660263,\n",
       "  't1': 1654794738.2262118,\n",
       "  'bandwidth': 1.2920908979985957,\n",
       "  'size': 3824828.776859504},\n",
       " {'t0': 1654794742.5840566,\n",
       "  't1': 1654794744.02689,\n",
       "  'bandwidth': 2.6509150081079818,\n",
       "  'size': 3824828.776859504},\n",
       " {'t0': 1654794735.0032215,\n",
       "  't1': 1654794738.0440867,\n",
       "  'bandwidth': 1.2578093887218327,\n",
       "  'size': 3824828.776859504},\n",
       " {'t0': 1654794742.3300207,\n",
       "  't1': 1654794743.7035577,\n",
       "  'bandwidth': 2.784656401508779,\n",
       "  'size': 3824828.776859504},\n",
       " {'t0': 1654794735.6769705,\n",
       "  't1': 1654794738.5361621,\n",
       "  'bandwidth': 1.3377308123722298,\n",
       "  'size': 3824828.776859504},\n",
       " {'t0': 1654794742.817454,\n",
       "  't1': 1654794744.0950203,\n",
       "  'bandwidth': 2.9938400007944246,\n",
       "  'size': 3824828.776859504},\n",
       " {'t0': 1654794735.3723137,\n",
       "  't1': 1654794737.9547727,\n",
       "  'bandwidth': 1.4810801708569232,\n",
       "  'size': 3824828.776859504},\n",
       " {'t0': 1654794741.225752,\n",
       "  't1': 1654794742.4316783,\n",
       "  'bandwidth': 3.1716939566081135,\n",
       "  'size': 3824828.776859504},\n",
       " {'t0': 1654794735.558351,\n",
       "  't1': 1654794738.4183402,\n",
       "  'bandwidth': 1.337357785121101,\n",
       "  'size': 3824828.776859504},\n",
       " {'t0': 1654794742.6752868,\n",
       "  't1': 1654794744.0377393,\n",
       "  'bandwidth': 2.8073116362991466,\n",
       "  'size': 3824828.776859504},\n",
       " {'t0': 1654794735.7364001,\n",
       "  't1': 1654794738.5758932,\n",
       "  'bandwidth': 1.34701114882242,\n",
       "  'size': 3824828.776859504},\n",
       " {'t0': 1654794742.91473,\n",
       "  't1': 1654794744.3387082,\n",
       "  'bandwidth': 2.686016591793641,\n",
       "  'size': 3824828.776859504},\n",
       " {'t0': 1654794736.593997,\n",
       "  't1': 1654794739.4367142,\n",
       "  'bandwidth': 1.3454834044911463,\n",
       "  'size': 3824828.776859504},\n",
       " {'t0': 1654794743.8939052,\n",
       "  't1': 1654794745.13404,\n",
       "  'bandwidth': 3.0842036692273225,\n",
       "  'size': 3824828.776859504},\n",
       " {'t0': 1654794735.2391768,\n",
       "  't1': 1654794738.0767345,\n",
       "  'bandwidth': 1.3479298242835764,\n",
       "  'size': 3824828.776859504},\n",
       " {'t0': 1654794742.4371223,\n",
       "  't1': 1654794744.016885,\n",
       "  'bandwidth': 2.421141342045007,\n",
       "  'size': 3824828.776859504},\n",
       " {'t0': 1654794735.43537,\n",
       "  't1': 1654794738.4730065,\n",
       "  'bandwidth': 1.2591462979828243,\n",
       "  'size': 3824828.776859504},\n",
       " {'t0': 1654794742.8833275,\n",
       "  't1': 1654794744.23525,\n",
       "  'bandwidth': 2.829177517761073,\n",
       "  'size': 3824828.776859504},\n",
       " {'t0': 1654794735.0495462,\n",
       "  't1': 1654794738.0907087,\n",
       "  'bandwidth': 1.257686423653444,\n",
       "  'size': 3824828.776859504},\n",
       " {'t0': 1654794742.3465807,\n",
       "  't1': 1654794743.7509425,\n",
       "  'bandwidth': 2.7235353322225153,\n",
       "  'size': 3824828.776859504},\n",
       " {'t0': 1654794735.4871001,\n",
       "  't1': 1654794738.4259906,\n",
       "  'bandwidth': 1.3014533316646055,\n",
       "  'size': 3824828.776859504},\n",
       " {'t0': 1654794742.8600671,\n",
       "  't1': 1654794744.2896435,\n",
       "  'bandwidth': 2.6754979902024165,\n",
       "  'size': 3824828.776859504},\n",
       " {'t0': 1654794735.7691483,\n",
       "  't1': 1654794738.611776,\n",
       "  'bandwidth': 1.3455257229375142,\n",
       "  'size': 3824828.776859504},\n",
       " {'t0': 1654794743.1632414,\n",
       "  't1': 1654794744.6306632,\n",
       "  'bandwidth': 2.606495865609065,\n",
       "  'size': 3824828.776859504},\n",
       " {'t0': 1654794735.6233888,\n",
       "  't1': 1654794738.5436473,\n",
       "  'bandwidth': 1.309756909534113,\n",
       "  'size': 3824828.776859504},\n",
       " {'t0': 1654794742.9330332,\n",
       "  't1': 1654794744.363675,\n",
       "  'bandwidth': 2.673505371776427,\n",
       "  'size': 3824828.776859504},\n",
       " {'t0': 1654794735.5638583,\n",
       "  't1': 1654794738.484852,\n",
       "  'bandwidth': 1.3094272128896267,\n",
       "  'size': 3824828.776859504},\n",
       " {'t0': 1654794742.945081,\n",
       "  't1': 1654794744.3046498,\n",
       "  'bandwidth': 2.813266000478203,\n",
       "  'size': 3824828.776859504},\n",
       " {'t0': 1654794735.5336692,\n",
       "  't1': 1654794738.0953894,\n",
       "  'bandwidth': 1.4930705067448022,\n",
       "  'size': 3824828.776859504},\n",
       " {'t0': 1654794741.3720853,\n",
       "  't1': 1654794742.7734864,\n",
       "  'bandwidth': 2.729289232467116,\n",
       "  'size': 3824828.776859504},\n",
       " {'t0': 1654794735.598087,\n",
       "  't1': 1654794738.259495,\n",
       "  'bandwidth': 1.4371448692766073,\n",
       "  'size': 3824828.776859504},\n",
       " {'t0': 1654794742.4982738,\n",
       "  't1': 1654794743.9203656,\n",
       "  'bandwidth': 2.689579523159551,\n",
       "  'size': 3824828.776859504},\n",
       " {'t0': 1654794734.9017363,\n",
       "  't1': 1654794737.819906,\n",
       "  'bandwidth': 1.3106944152509181,\n",
       "  'size': 3824828.776859504},\n",
       " {'t0': 1654794741.947576,\n",
       "  't1': 1654794743.2813056,\n",
       "  'bandwidth': 2.8677694847231763,\n",
       "  'size': 3824828.776859504},\n",
       " {'t0': 1654794735.4035556,\n",
       "  't1': 1654794738.3067303,\n",
       "  'bandwidth': 1.3174642426983816,\n",
       "  'size': 3824828.776859504},\n",
       " {'t0': 1654794742.684778,\n",
       "  't1': 1654794743.9262755,\n",
       "  'bandwidth': 3.080818709356306,\n",
       "  'size': 3824828.776859504},\n",
       " {'t0': 1654794733.652681,\n",
       "  't1': 1654794736.611101,\n",
       "  'bandwidth': 1.292862080328159,\n",
       "  'size': 3824828.776859504},\n",
       " {'t0': 1654794740.5529156,\n",
       "  't1': 1654794741.8516133,\n",
       "  'bandwidth': 2.9451262963648817,\n",
       "  'size': 3824828.776859504},\n",
       " {'t0': 1654794736.8368807,\n",
       "  't1': 1654794739.7367706,\n",
       "  'bandwidth': 1.3189565287319207,\n",
       "  'size': 3824828.776859504},\n",
       " {'t0': 1654794744.015145,\n",
       "  't1': 1654794745.3756921,\n",
       "  'bandwidth': 2.8112432661736877,\n",
       "  'size': 3824828.776859504},\n",
       " {'t0': 1654794735.9217136,\n",
       "  't1': 1654794738.840059,\n",
       "  'bandwidth': 1.31061549793005,\n",
       "  'size': 3824828.776859504},\n",
       " {'t0': 1654794743.1234233,\n",
       "  't1': 1654794744.5809228,\n",
       "  'bandwidth': 2.6242401909078206,\n",
       "  'size': 3824828.776859504},\n",
       " {'t0': 1654794734.87423,\n",
       "  't1': 1654794737.773191,\n",
       "  'bandwidth': 1.3193791459069688,\n",
       "  'size': 3824828.776859504},\n",
       " {'t0': 1654794742.1959414,\n",
       "  't1': 1654794743.5757163,\n",
       "  'bandwidth': 2.772067407111204,\n",
       "  'size': 3824828.776859504},\n",
       " {'t0': 1654794735.5150352,\n",
       "  't1': 1654794738.3931615,\n",
       "  'bandwidth': 1.328930098302914,\n",
       "  'size': 3824828.776859504},\n",
       " {'t0': 1654794742.8750126,\n",
       "  't1': 1654794744.0750542,\n",
       "  'bandwidth': 3.1872470020590558,\n",
       "  'size': 3824828.776859504},\n",
       " {'t0': 1654794735.1978133,\n",
       "  't1': 1654794737.9550836,\n",
       "  'bandwidth': 1.3871794603203786,\n",
       "  'size': 3824828.776859504},\n",
       " {'t0': 1654794742.196109,\n",
       "  't1': 1654794743.4351745,\n",
       "  'bandwidth': 3.086865915215772,\n",
       "  'size': 3824828.776859504},\n",
       " {'t0': 1654794735.1438007,\n",
       "  't1': 1654794738.0245595,\n",
       "  'bandwidth': 1.3277157486545665,\n",
       "  'size': 3824828.776859504},\n",
       " {'t0': 1654794742.3760629,\n",
       "  't1': 1654794743.7062163,\n",
       "  'bandwidth': 2.875479316275931,\n",
       "  'size': 3824828.776859504},\n",
       " {'t0': 1654794734.6047916,\n",
       "  't1': 1654794737.2232912,\n",
       "  'bandwidth': 1.460694856494654,\n",
       "  'size': 3824828.776859504},\n",
       " {'t0': 1654794740.3370762,\n",
       "  't1': 1654794741.4656007,\n",
       "  'bandwidth': 3.3892295958162886,\n",
       "  'size': 3824828.776859504},\n",
       " {'t0': 1654794734.6939595,\n",
       "  't1': 1654794737.5946362,\n",
       "  'bandwidth': 1.3185987741648193,\n",
       "  'size': 3824828.776859504},\n",
       " {'t0': 1654794741.5841322,\n",
       "  't1': 1654794743.171956,\n",
       "  'bandwidth': 2.4088495294910435,\n",
       "  'size': 3824828.776859504},\n",
       " {'t0': 1654794734.8257794,\n",
       "  't1': 1654794737.5275958,\n",
       "  'bandwidth': 1.415650926361236,\n",
       "  'size': 3824828.776859504},\n",
       " {'t0': 1654794741.2199686,\n",
       "  't1': 1654794742.4665747,\n",
       "  'bandwidth': 3.0681935067492487,\n",
       "  'size': 3824828.776859504},\n",
       " {'t0': 1654794735.2930536,\n",
       "  't1': 1654794738.1538448,\n",
       "  'bandwidth': 1.3369828487854953,\n",
       "  'size': 3824828.776859504},\n",
       " {'t0': 1654794742.4102418,\n",
       "  't1': 1654794743.715156,\n",
       "  'bandwidth': 2.93109590740802,\n",
       "  'size': 3824828.776859504},\n",
       " {'t0': 1654794733.5484033,\n",
       "  't1': 1654794736.2065551,\n",
       "  'bandwidth': 1.4389052887509117,\n",
       "  'size': 3824828.776859504},\n",
       " {'t0': 1654794740.1973138,\n",
       "  't1': 1654794741.8686411,\n",
       "  'bandwidth': 2.288497684839409,\n",
       "  'size': 3824828.776859504},\n",
       " {'t0': 1654794735.1794417,\n",
       "  't1': 1654794738.0623252,\n",
       "  'bandwidth': 1.3267371755393105,\n",
       "  'size': 3824828.776859504},\n",
       " {'t0': 1654794742.497067,\n",
       "  't1': 1654794743.7400305,\n",
       "  'bandwidth': 3.0771849820081583,\n",
       "  'size': 3824828.776859504},\n",
       " {'t0': 1654794734.6615822,\n",
       "  't1': 1654794737.3635085,\n",
       "  'bandwidth': 1.4155933394598752,\n",
       "  'size': 3824828.776859504},\n",
       " {'t0': 1654794741.5379255,\n",
       "  't1': 1654794742.8209655,\n",
       "  'bandwidth': 2.9810673382496433,\n",
       "  'size': 3824828.776859504},\n",
       " {'t0': 1654794736.0009933,\n",
       "  't1': 1654794738.9830391,\n",
       "  'bandwidth': 1.2826190204166894,\n",
       "  'size': 3824828.776859504},\n",
       " {'t0': 1654794743.4223258,\n",
       "  't1': 1654794744.7649066,\n",
       "  'bandwidth': 2.8488630183621737,\n",
       "  'size': 3824828.776859504},\n",
       " {'t0': 1654794735.3785791,\n",
       "  't1': 1654794738.179675,\n",
       "  'bandwidth': 1.3654758094801143,\n",
       "  'size': 3824828.776859504},\n",
       " {'t0': 1654794742.6502926,\n",
       "  't1': 1654794743.9588075,\n",
       "  'bandwidth': 2.9230305068641225,\n",
       "  'size': 3824828.776859504},\n",
       " {'t0': 1654794736.3282118,\n",
       "  't1': 1654794739.0903368,\n",
       "  'bandwidth': 1.3847413696809623,\n",
       "  'size': 3824828.776859504},\n",
       " {'t0': 1654794743.633647,\n",
       "  't1': 1654794744.8094459,\n",
       "  'bandwidth': 3.2529617094488152,\n",
       "  'size': 3824828.776859504},\n",
       " {'t0': 1654794734.84302,\n",
       "  't1': 1654794737.5631325,\n",
       "  'bandwidth': 1.4061288602684716,\n",
       "  'size': 3824828.776859504},\n",
       " {'t0': 1654794741.8617845,\n",
       "  't1': 1654794743.2208421,\n",
       "  'bandwidth': 2.8143241274622035,\n",
       "  'size': 3824828.776859504},\n",
       " {'t0': 1654794735.0231638,\n",
       "  't1': 1654794737.662137,\n",
       "  'bandwidth': 1.4493624734653354,\n",
       "  'size': 3824828.776859504},\n",
       " {'t0': 1654794741.0059736,\n",
       "  't1': 1654794742.202244,\n",
       "  'bandwidth': 3.1972943293715357,\n",
       "  'size': 3824828.776859504},\n",
       " {'t0': 1654794734.7857273,\n",
       "  't1': 1654794737.6662734,\n",
       "  'bandwidth': 1.3278137732881212,\n",
       "  'size': 3824828.776859504},\n",
       " {'t0': 1654794742.0071335,\n",
       "  't1': 1654794743.386016,\n",
       "  'bandwidth': 2.7738614651071583,\n",
       "  'size': 3824828.776859504},\n",
       " {'t0': 1654794735.2946901,\n",
       "  't1': 1654794738.172206,\n",
       "  'bandwidth': 1.3292120885549208,\n",
       "  'size': 3824828.776859504},\n",
       " {'t0': 1654794742.5906384,\n",
       "  't1': 1654794743.8352776,\n",
       "  'bandwidth': 3.073042296243278,\n",
       "  'size': 3824828.776859504},\n",
       " {'t0': 1654794734.1241457,\n",
       "  't1': 1654794736.9233027,\n",
       "  'bandwidth': 1.3664217147286066,\n",
       "  'size': 3824828.776859504},\n",
       " {'t0': 1654794740.8028343,\n",
       "  't1': 1654794742.283534,\n",
       "  'bandwidth': 2.5831224092238756,\n",
       "  'size': 3824828.776859504},\n",
       " {'t0': 1654794734.898962,\n",
       "  't1': 1654794737.8577754,\n",
       "  'bandwidth': 1.2926900829664305,\n",
       "  'size': 3824828.776859504},\n",
       " {'t0': 1654794742.1568673,\n",
       "  't1': 1654794743.5790343,\n",
       "  'bandwidth': 2.689437040848262,\n",
       "  'size': 3824828.776859504},\n",
       " {'t0': 1654794736.0702567,\n",
       "  't1': 1654794738.9510581,\n",
       "  'bandwidth': 1.3276960795355743,\n",
       "  'size': 3824828.776859504},\n",
       " {'t0': 1654794743.441445,\n",
       "  't1': 1654794744.829633,\n",
       "  'bandwidth': 2.7552673650338337,\n",
       "  'size': 3824828.776859504},\n",
       " {'t0': 1654794735.1933107,\n",
       "  't1': 1654794737.9331374,\n",
       "  'bandwidth': 1.3960112170069097,\n",
       "  'size': 3824828.776859504},\n",
       " {'t0': 1654794742.25312,\n",
       "  't1': 1654794743.5501494,\n",
       "  'bandwidth': 2.9489142620877358,\n",
       "  'size': 3824828.776859504},\n",
       " {'t0': 1654794735.746934,\n",
       "  't1': 1654794738.6273434,\n",
       "  'bandwidth': 1.327876749662634,\n",
       "  'size': 3824828.776859504},\n",
       " {'t0': 1654794742.9403708,\n",
       "  't1': 1654794744.168396,\n",
       "  'bandwidth': 3.114617503893526,\n",
       "  'size': 3824828.776859504},\n",
       " {'t0': 1654794734.8502548,\n",
       "  't1': 1654794737.8925848,\n",
       "  'bandwidth': 1.257203769276988,\n",
       "  'size': 3824828.776859504},\n",
       " {'t0': 1654794742.2907078,\n",
       "  't1': 1654794743.6330354,\n",
       "  'bandwidth': 2.849400393613811,\n",
       "  'size': 3824828.776859504},\n",
       " {'t0': 1654794734.4279659,\n",
       "  't1': 1654794737.230192,\n",
       "  'bandwidth': 1.3649251295113312,\n",
       "  'size': 3824828.776859504},\n",
       " {'t0': 1654794741.5208266,\n",
       "  't1': 1654794742.8485332,\n",
       "  'bandwidth': 2.880778665817339,\n",
       "  'size': 3824828.776859504},\n",
       " {'t0': 1654794735.8568087,\n",
       "  't1': 1654794738.7567906,\n",
       "  'bandwidth': 1.3189146722634209,\n",
       "  'size': 3824828.776859504},\n",
       " {'t0': 1654794743.5895355,\n",
       "  't1': 1654794744.9373248,\n",
       "  'bandwidth': 2.8378536705567745,\n",
       "  'size': 3824828.776859504},\n",
       " {'t0': 1654794734.9635894,\n",
       "  't1': 1654794737.6442335,\n",
       "  'bandwidth': 1.426832032316182,\n",
       "  'size': 3824828.776859504},\n",
       " {'t0': 1654794740.9874473,\n",
       "  't1': 1654794742.2638936,\n",
       "  'bandwidth': 2.996466556881224,\n",
       "  'size': 3824828.776859504},\n",
       " {'t0': 1654794735.9079623,\n",
       "  't1': 1654794738.7086627,\n",
       "  'bandwidth': 1.3656686524603816,\n",
       "  'size': 3824828.776859504},\n",
       " {'t0': 1654794743.1864114,\n",
       "  't1': 1654794744.549937,\n",
       "  'bandwidth': 2.8051022257222713,\n",
       "  'size': 3824828.776859504},\n",
       " {'t0': 1654794733.5846121,\n",
       "  't1': 1654794736.3436425,\n",
       "  'bandwidth': 1.3862945682378551,\n",
       "  'size': 3824828.776859504},\n",
       " {'t0': 1654794740.5250657,\n",
       "  't1': 1654794741.9025738,\n",
       "  'bandwidth': 2.7766287549789683,\n",
       "  'size': 3824828.776859504},\n",
       " {'t0': 1654794735.755182,\n",
       "  't1': 1654794738.6733968,\n",
       "  'bandwidth': 1.310674176388733,\n",
       "  'size': 3824828.776859504},\n",
       " {'t0': 1654794743.0924296,\n",
       "  't1': 1654794744.493822,\n",
       "  'bandwidth': 2.7293059484678497,\n",
       "  'size': 3824828.776859504},\n",
       " {'t0': 1654794735.3635197,\n",
       "  't1': 1654794738.323939,\n",
       "  'bandwidth': 1.2919888160559996,\n",
       "  'size': 3824828.776859504},\n",
       " {'t0': 1654794742.6344416,\n",
       "  't1': 1654794743.9264126,\n",
       "  'bandwidth': 2.9604603128588796,\n",
       "  'size': 3824828.776859504},\n",
       " {'t0': 1654794735.6244867,\n",
       "  't1': 1654794738.3615966,\n",
       "  'bandwidth': 1.397396859194084,\n",
       "  'size': 3824828.776859504},\n",
       " {'t0': 1654794742.6988149,\n",
       "  't1': 1654794743.9445548,\n",
       "  'bandwidth': 3.0703268505597547,\n",
       "  'size': 3824828.776859504},\n",
       " {'t0': 1654794735.1723323,\n",
       "  't1': 1654794738.229983,\n",
       "  'bandwidth': 1.2509043777025977,\n",
       "  'size': 3824828.776859504},\n",
       " {'t0': 1654794742.5898075,\n",
       "  't1': 1654794744.0304554,\n",
       "  'bandwidth': 2.654936667612232,\n",
       "  'size': 3824828.776859504},\n",
       " {'t0': 1654794735.3311837,\n",
       "  't1': 1654794738.0502777,\n",
       "  'bandwidth': 1.4066555710810393,\n",
       "  'size': 3824828.776859504},\n",
       " {'t0': 1654794742.3901904,\n",
       "  't1': 1654794743.7708569,\n",
       "  'bandwidth': 2.7702771034551286,\n",
       "  'size': 3824828.776859504},\n",
       " {'t0': 1654794734.4679296,\n",
       "  't1': 1654794737.3655772,\n",
       "  'bandwidth': 1.3199771951058945,\n",
       "  'size': 3824828.776859504},\n",
       " {'t0': 1654794741.3867154,\n",
       "  't1': 1654794742.9861102,\n",
       "  'bandwidth': 2.3914225436869,\n",
       "  'size': 3824828.776859504},\n",
       " {'t0': 1654794735.6718576,\n",
       "  't1': 1654794738.5716136,\n",
       "  'bandwidth': 1.3190174747651278,\n",
       "  'size': 3824828.776859504},\n",
       " {'t0': 1654794742.7915108,\n",
       "  't1': 1654794744.2136033,\n",
       "  'bandwidth': 2.689578170408398,\n",
       "  'size': 3824828.776859504},\n",
       " {'t0': 1654794736.0802977,\n",
       "  't1': 1654794739.0003853,\n",
       "  'bandwidth': 1.3098335845849804,\n",
       "  'size': 3824828.776859504},\n",
       " {'t0': 1654794743.4580266,\n",
       "  't1': 1654794744.7606602,\n",
       "  'bandwidth': 2.9362278081771707,\n",
       "  'size': 3824828.776859504},\n",
       " {'t0': 1654794735.4320896,\n",
       "  't1': 1654794738.074361,\n",
       "  'bandwidth': 1.44755326989665,\n",
       "  'size': 3824828.776859504},\n",
       " {'t0': 1654794741.336389,\n",
       "  't1': 1654794742.6730683,\n",
       "  'bandwidth': 2.861441039151041,\n",
       "  'size': 3824828.776859504},\n",
       " {'t0': 1654794735.5727732,\n",
       "  't1': 1654794738.2111337,\n",
       "  'bandwidth': 1.4496990750023926,\n",
       "  'size': 3824828.776859504},\n",
       " {'t0': 1654794741.5755227,\n",
       "  't1': 1654794742.7746296,\n",
       "  'bandwidth': 3.189731187259786,\n",
       "  'size': 3824828.776859504},\n",
       " {'t0': 1654794735.2935069,\n",
       "  't1': 1654794738.0563605,\n",
       "  'bandwidth': 1.384376191991829,\n",
       "  'size': 3824828.776859504},\n",
       " {'t0': 1654794741.5139964,\n",
       "  't1': 1654794742.7560604,\n",
       "  'bandwidth': 3.079413604610441,\n",
       "  'size': 3824828.776859504},\n",
       " {'t0': 1654794735.2952425,\n",
       "  't1': 1654794737.8943977,\n",
       "  'bandwidth': 1.471566143913569,\n",
       "  'size': 3824828.776859504},\n",
       " {'t0': 1654794741.232365,\n",
       "  't1': 1654794742.4333596,\n",
       "  'bandwidth': 3.1847173691370907,\n",
       "  'size': 3824828.776859504},\n",
       " {'t0': 1654794735.1267989,\n",
       "  't1': 1654794737.768576,\n",
       "  'bandwidth': 1.4478242187023416,\n",
       "  'size': 3824828.776859504},\n",
       " {'t0': 1654794741.0292652,\n",
       "  't1': 1654794742.3282466,\n",
       "  'bandwidth': 2.944483034155083,\n",
       "  'size': 3824828.776859504},\n",
       " {'t0': 1654794735.8267238,\n",
       "  't1': 1654794738.348769,\n",
       "  'bandwidth': 1.5165584164314279,\n",
       "  'size': 3824828.776859504},\n",
       " {'t0': 1654794741.8428383,\n",
       "  't1': 1654794742.987227,\n",
       "  'bandwidth': 3.3422462648491047,\n",
       "  'size': 3824828.776859504},\n",
       " {'t0': 1654794735.3514562,\n",
       "  't1': 1654794738.032396,\n",
       "  'bandwidth': 1.426674562381554,\n",
       "  'size': 3824828.776859504},\n",
       " {'t0': 1654794741.609797,\n",
       "  't1': 1654794742.6913795,\n",
       "  'bandwidth': 3.536326275028056,\n",
       "  'size': 3824828.776859504},\n",
       " {'t0': 1654794735.4988575,\n",
       "  't1': 1654794738.0802066,\n",
       "  'bandwidth': 1.4817169540615338,\n",
       "  'size': 3824828.776859504},\n",
       " {'t0': 1654794741.4622548,\n",
       "  't1': 1654794742.6785727,\n",
       "  'bandwidth': 3.1445963278035576,\n",
       "  'size': 3824828.776859504},\n",
       " {'t0': 1654794735.732221,\n",
       "  't1': 1654794738.2141676,\n",
       "  'bandwidth': 1.5410599939247995,\n",
       "  'size': 3824828.776859504},\n",
       " {'t0': 1654794741.60115,\n",
       "  't1': 1654794742.773133,\n",
       "  'bandwidth': 3.263553110460996,\n",
       "  'size': 3824828.776859504},\n",
       " {'t0': 1654794735.5331059,\n",
       "  't1': 1654794738.3122745,\n",
       "  'bandwidth': 1.376249274286973,\n",
       "  'size': 3824828.776859504},\n",
       " {'t0': 1654794741.6483297,\n",
       "  't1': 1654794742.8134243,\n",
       "  'bandwidth': 3.2828482174792106,\n",
       "  'size': 3824828.776859504},\n",
       " {'t0': 1654794735.4783301,\n",
       "  't1': 1654794738.1178455,\n",
       "  'bandwidth': 1.4490647703577682,\n",
       "  'size': 3824828.776859504},\n",
       " {'t0': 1654794741.4814563,\n",
       "  't1': 1654794742.9763963,\n",
       "  'bandwidth': 2.558516507775218,\n",
       "  'size': 3824828.776859504},\n",
       " {'t0': 1654794735.9039574,\n",
       "  't1': 1654794739.1427155,\n",
       "  'bandwidth': 1.18095537669982,\n",
       "  'size': 3824828.776859504},\n",
       " {'t0': 1654794741.7576191,\n",
       "  't1': 1654794743.345366,\n",
       "  'bandwidth': 2.4089663639704892,\n",
       "  'size': 3824828.776859504}]"
      ]
     },
     "execution_count": 24,
     "metadata": {},
     "output_type": "execute_result"
    }
   ],
   "source": [
    "read_results"
   ]
  },
  {
   "cell_type": "code",
   "execution_count": 26,
   "metadata": {},
   "outputs": [
    {
     "data": {
      "image/png": "[encoded data removed]",
      "text/plain": [
       "<Figure size 576x432 with 1 Axes>"
      ]
     },
     "metadata": {
      "needs_background": "light"
     },
     "output_type": "display_data"
    }
   ],
   "source": [
    "create_agg_bdwth_plot(read_results, write_results, fexec.executor_id + '-storage-kpi.pdf')"
   ]
  },
  {
   "cell_type": "code",
   "execution_count": 32,
   "metadata": {},
   "outputs": [
    {
     "name": "stdout",
     "output_type": "stream",
     "text": [
      "Throughput: 45.86134039229429 MiB/s\n"
     ]
    }
   ],
   "source": [
    "# Throughput read numeric:\n",
    "throughput_interpolation = size_total_read / duration  # Bytes/second\n",
    "print(f\"Throughput: {throughput_interpolation / 1024**2} MiB/s\")"
   ]
  },
  {
   "cell_type": "code",
   "execution_count": 34,
   "metadata": {},
   "outputs": [
    {
     "name": "stdout",
     "output_type": "stream",
     "text": [
      "Throughput: 2.111045103190282 MiB/s\n"
     ]
    }
   ],
   "source": [
    "# Throughput write numeric:\n",
    "throughput_interpolation = size_total_write / duration  # Bytes/second\n",
    "print(f\"Throughput: {throughput_interpolation / 1024**2} MiB/s\")"
   ]
  },
  {
   "cell_type": "code",
   "execution_count": 27,
   "metadata": {},
   "outputs": [],
   "source": [
    "keys = storage.list_keys(bucket='daniel-lithops-geospatial')"
   ]
  },
  {
   "cell_type": "code",
   "execution_count": 28,
   "metadata": {},
   "outputs": [
    {
     "ename": "KeyboardInterrupt",
     "evalue": "",
     "output_type": "error",
     "traceback": [
      "\u001B[1;31m---------------------------------------------------------------------------\u001B[0m",
      "\u001B[1;31mKeyboardInterrupt\u001B[0m                         Traceback (most recent call last)",
      "Input \u001B[1;32mIn [28]\u001B[0m, in \u001B[0;36m<cell line: 1>\u001B[1;34m()\u001B[0m\n\u001B[0;32m      1\u001B[0m \u001B[38;5;28;01mfor\u001B[39;00m key \u001B[38;5;129;01min\u001B[39;00m keys:\n\u001B[1;32m----> 2\u001B[0m     \u001B[43mstorage\u001B[49m\u001B[38;5;241;43m.\u001B[39;49m\u001B[43mdelete_object\u001B[49m\u001B[43m(\u001B[49m\u001B[43mbucket\u001B[49m\u001B[38;5;241;43m=\u001B[39;49m\u001B[38;5;124;43m'\u001B[39;49m\u001B[38;5;124;43mdaniel-lithops-geospatial\u001B[39;49m\u001B[38;5;124;43m'\u001B[39;49m\u001B[43m,\u001B[49m\u001B[43m \u001B[49m\u001B[43mkey\u001B[49m\u001B[38;5;241;43m=\u001B[39;49m\u001B[43mkey\u001B[49m\u001B[43m)\u001B[49m\n",
      "File \u001B[1;32m~\\anaconda3\\envs\\geospatial\\lib\\site-packages\\lithops\\storage\\storage.py:158\u001B[0m, in \u001B[0;36mStorage.delete_object\u001B[1;34m(self, bucket, key)\u001B[0m\n\u001B[0;32m    151\u001B[0m \u001B[38;5;28;01mdef\u001B[39;00m \u001B[38;5;21mdelete_object\u001B[39m(\u001B[38;5;28mself\u001B[39m, bucket: \u001B[38;5;28mstr\u001B[39m, key: \u001B[38;5;28mstr\u001B[39m):\n\u001B[0;32m    152\u001B[0m     \u001B[38;5;124;03m\"\"\"\u001B[39;00m\n\u001B[0;32m    153\u001B[0m \u001B[38;5;124;03m    Removes objects from the storage backend.\u001B[39;00m\n\u001B[0;32m    154\u001B[0m \n\u001B[0;32m    155\u001B[0m \u001B[38;5;124;03m    :param bucket: Name of the bucket\u001B[39;00m\n\u001B[0;32m    156\u001B[0m \u001B[38;5;124;03m    :param key: Key of the object\u001B[39;00m\n\u001B[0;32m    157\u001B[0m \u001B[38;5;124;03m    \"\"\"\u001B[39;00m\n\u001B[1;32m--> 158\u001B[0m     \u001B[38;5;28;01mreturn\u001B[39;00m \u001B[38;5;28;43mself\u001B[39;49m\u001B[38;5;241;43m.\u001B[39;49m\u001B[43mstorage_handler\u001B[49m\u001B[38;5;241;43m.\u001B[39;49m\u001B[43mdelete_object\u001B[49m\u001B[43m(\u001B[49m\u001B[43mbucket\u001B[49m\u001B[43m,\u001B[49m\u001B[43m \u001B[49m\u001B[43mkey\u001B[49m\u001B[43m)\u001B[49m\n",
      "File \u001B[1;32m~\\anaconda3\\envs\\geospatial\\lib\\site-packages\\lithops\\storage\\backends\\aws_s3\\aws_s3.py:171\u001B[0m, in \u001B[0;36mS3Backend.delete_object\u001B[1;34m(self, bucket_name, key)\u001B[0m\n\u001B[0;32m    165\u001B[0m \u001B[38;5;28;01mdef\u001B[39;00m \u001B[38;5;21mdelete_object\u001B[39m(\u001B[38;5;28mself\u001B[39m, bucket_name, key):\n\u001B[0;32m    166\u001B[0m     \u001B[38;5;124;03m'''\u001B[39;00m\n\u001B[0;32m    167\u001B[0m \u001B[38;5;124;03m    Delete an object from storage.\u001B[39;00m\n\u001B[0;32m    168\u001B[0m \u001B[38;5;124;03m    :param bucket: bucket name\u001B[39;00m\n\u001B[0;32m    169\u001B[0m \u001B[38;5;124;03m    :param key: data key\u001B[39;00m\n\u001B[0;32m    170\u001B[0m \u001B[38;5;124;03m    '''\u001B[39;00m\n\u001B[1;32m--> 171\u001B[0m     \u001B[38;5;28;01mreturn\u001B[39;00m \u001B[38;5;28;43mself\u001B[39;49m\u001B[38;5;241;43m.\u001B[39;49m\u001B[43ms3_client\u001B[49m\u001B[38;5;241;43m.\u001B[39;49m\u001B[43mdelete_object\u001B[49m\u001B[43m(\u001B[49m\u001B[43mBucket\u001B[49m\u001B[38;5;241;43m=\u001B[39;49m\u001B[43mbucket_name\u001B[49m\u001B[43m,\u001B[49m\u001B[43m \u001B[49m\u001B[43mKey\u001B[49m\u001B[38;5;241;43m=\u001B[39;49m\u001B[43mkey\u001B[49m\u001B[43m)\u001B[49m\n",
      "File \u001B[1;32m~\\anaconda3\\envs\\geospatial\\lib\\site-packages\\botocore\\client.py:508\u001B[0m, in \u001B[0;36mClientCreator._create_api_method.<locals>._api_call\u001B[1;34m(self, *args, **kwargs)\u001B[0m\n\u001B[0;32m    504\u001B[0m     \u001B[38;5;28;01mraise\u001B[39;00m \u001B[38;5;167;01mTypeError\u001B[39;00m(\n\u001B[0;32m    505\u001B[0m         \u001B[38;5;124mf\u001B[39m\u001B[38;5;124m\"\u001B[39m\u001B[38;5;132;01m{\u001B[39;00mpy_operation_name\u001B[38;5;132;01m}\u001B[39;00m\u001B[38;5;124m() only accepts keyword arguments.\u001B[39m\u001B[38;5;124m\"\u001B[39m\n\u001B[0;32m    506\u001B[0m     )\n\u001B[0;32m    507\u001B[0m \u001B[38;5;66;03m# The \"self\" in this scope is referring to the BaseClient.\u001B[39;00m\n\u001B[1;32m--> 508\u001B[0m \u001B[38;5;28;01mreturn\u001B[39;00m \u001B[38;5;28;43mself\u001B[39;49m\u001B[38;5;241;43m.\u001B[39;49m\u001B[43m_make_api_call\u001B[49m\u001B[43m(\u001B[49m\u001B[43moperation_name\u001B[49m\u001B[43m,\u001B[49m\u001B[43m \u001B[49m\u001B[43mkwargs\u001B[49m\u001B[43m)\u001B[49m\n",
      "File \u001B[1;32m~\\anaconda3\\envs\\geospatial\\lib\\site-packages\\botocore\\client.py:894\u001B[0m, in \u001B[0;36mBaseClient._make_api_call\u001B[1;34m(self, operation_name, api_params)\u001B[0m\n\u001B[0;32m    892\u001B[0m \u001B[38;5;28;01melse\u001B[39;00m:\n\u001B[0;32m    893\u001B[0m     apply_request_checksum(request_dict)\n\u001B[1;32m--> 894\u001B[0m     http, parsed_response \u001B[38;5;241m=\u001B[39m \u001B[38;5;28;43mself\u001B[39;49m\u001B[38;5;241;43m.\u001B[39;49m\u001B[43m_make_request\u001B[49m\u001B[43m(\u001B[49m\n\u001B[0;32m    895\u001B[0m \u001B[43m        \u001B[49m\u001B[43moperation_model\u001B[49m\u001B[43m,\u001B[49m\u001B[43m \u001B[49m\u001B[43mrequest_dict\u001B[49m\u001B[43m,\u001B[49m\u001B[43m \u001B[49m\u001B[43mrequest_context\u001B[49m\n\u001B[0;32m    896\u001B[0m \u001B[43m    \u001B[49m\u001B[43m)\u001B[49m\n\u001B[0;32m    898\u001B[0m \u001B[38;5;28mself\u001B[39m\u001B[38;5;241m.\u001B[39mmeta\u001B[38;5;241m.\u001B[39mevents\u001B[38;5;241m.\u001B[39memit(\n\u001B[0;32m    899\u001B[0m     \u001B[38;5;124m'\u001B[39m\u001B[38;5;124mafter-call.\u001B[39m\u001B[38;5;132;01m{service_id}\u001B[39;00m\u001B[38;5;124m.\u001B[39m\u001B[38;5;132;01m{operation_name}\u001B[39;00m\u001B[38;5;124m'\u001B[39m\u001B[38;5;241m.\u001B[39mformat(\n\u001B[0;32m    900\u001B[0m         service_id\u001B[38;5;241m=\u001B[39mservice_id, operation_name\u001B[38;5;241m=\u001B[39moperation_name\n\u001B[1;32m   (...)\u001B[0m\n\u001B[0;32m    905\u001B[0m     context\u001B[38;5;241m=\u001B[39mrequest_context,\n\u001B[0;32m    906\u001B[0m )\n\u001B[0;32m    908\u001B[0m \u001B[38;5;28;01mif\u001B[39;00m http\u001B[38;5;241m.\u001B[39mstatus_code \u001B[38;5;241m>\u001B[39m\u001B[38;5;241m=\u001B[39m \u001B[38;5;241m300\u001B[39m:\n",
      "File \u001B[1;32m~\\anaconda3\\envs\\geospatial\\lib\\site-packages\\botocore\\client.py:917\u001B[0m, in \u001B[0;36mBaseClient._make_request\u001B[1;34m(self, operation_model, request_dict, request_context)\u001B[0m\n\u001B[0;32m    915\u001B[0m \u001B[38;5;28;01mdef\u001B[39;00m \u001B[38;5;21m_make_request\u001B[39m(\u001B[38;5;28mself\u001B[39m, operation_model, request_dict, request_context):\n\u001B[0;32m    916\u001B[0m     \u001B[38;5;28;01mtry\u001B[39;00m:\n\u001B[1;32m--> 917\u001B[0m         \u001B[38;5;28;01mreturn\u001B[39;00m \u001B[38;5;28;43mself\u001B[39;49m\u001B[38;5;241;43m.\u001B[39;49m\u001B[43m_endpoint\u001B[49m\u001B[38;5;241;43m.\u001B[39;49m\u001B[43mmake_request\u001B[49m\u001B[43m(\u001B[49m\u001B[43moperation_model\u001B[49m\u001B[43m,\u001B[49m\u001B[43m \u001B[49m\u001B[43mrequest_dict\u001B[49m\u001B[43m)\u001B[49m\n\u001B[0;32m    918\u001B[0m     \u001B[38;5;28;01mexcept\u001B[39;00m \u001B[38;5;167;01mException\u001B[39;00m \u001B[38;5;28;01mas\u001B[39;00m e:\n\u001B[0;32m    919\u001B[0m         \u001B[38;5;28mself\u001B[39m\u001B[38;5;241m.\u001B[39mmeta\u001B[38;5;241m.\u001B[39mevents\u001B[38;5;241m.\u001B[39memit(\n\u001B[0;32m    920\u001B[0m             \u001B[38;5;124m'\u001B[39m\u001B[38;5;124mafter-call-error.\u001B[39m\u001B[38;5;132;01m{service_id}\u001B[39;00m\u001B[38;5;124m.\u001B[39m\u001B[38;5;132;01m{operation_name}\u001B[39;00m\u001B[38;5;124m'\u001B[39m\u001B[38;5;241m.\u001B[39mformat(\n\u001B[0;32m    921\u001B[0m                 service_id\u001B[38;5;241m=\u001B[39m\u001B[38;5;28mself\u001B[39m\u001B[38;5;241m.\u001B[39m_service_model\u001B[38;5;241m.\u001B[39mservice_id\u001B[38;5;241m.\u001B[39mhyphenize(),\n\u001B[1;32m   (...)\u001B[0m\n\u001B[0;32m    925\u001B[0m             context\u001B[38;5;241m=\u001B[39mrequest_context,\n\u001B[0;32m    926\u001B[0m         )\n",
      "File \u001B[1;32m~\\anaconda3\\envs\\geospatial\\lib\\site-packages\\botocore\\endpoint.py:116\u001B[0m, in \u001B[0;36mEndpoint.make_request\u001B[1;34m(self, operation_model, request_dict)\u001B[0m\n\u001B[0;32m    110\u001B[0m \u001B[38;5;28;01mdef\u001B[39;00m \u001B[38;5;21mmake_request\u001B[39m(\u001B[38;5;28mself\u001B[39m, operation_model, request_dict):\n\u001B[0;32m    111\u001B[0m     logger\u001B[38;5;241m.\u001B[39mdebug(\n\u001B[0;32m    112\u001B[0m         \u001B[38;5;124m\"\u001B[39m\u001B[38;5;124mMaking request for \u001B[39m\u001B[38;5;132;01m%s\u001B[39;00m\u001B[38;5;124m with params: \u001B[39m\u001B[38;5;132;01m%s\u001B[39;00m\u001B[38;5;124m\"\u001B[39m,\n\u001B[0;32m    113\u001B[0m         operation_model,\n\u001B[0;32m    114\u001B[0m         request_dict,\n\u001B[0;32m    115\u001B[0m     )\n\u001B[1;32m--> 116\u001B[0m     \u001B[38;5;28;01mreturn\u001B[39;00m \u001B[38;5;28;43mself\u001B[39;49m\u001B[38;5;241;43m.\u001B[39;49m\u001B[43m_send_request\u001B[49m\u001B[43m(\u001B[49m\u001B[43mrequest_dict\u001B[49m\u001B[43m,\u001B[49m\u001B[43m \u001B[49m\u001B[43moperation_model\u001B[49m\u001B[43m)\u001B[49m\n",
      "File \u001B[1;32m~\\anaconda3\\envs\\geospatial\\lib\\site-packages\\botocore\\endpoint.py:196\u001B[0m, in \u001B[0;36mEndpoint._send_request\u001B[1;34m(self, request_dict, operation_model)\u001B[0m\n\u001B[0;32m    194\u001B[0m \u001B[38;5;28mself\u001B[39m\u001B[38;5;241m.\u001B[39m_update_retries_context(context, attempts)\n\u001B[0;32m    195\u001B[0m request \u001B[38;5;241m=\u001B[39m \u001B[38;5;28mself\u001B[39m\u001B[38;5;241m.\u001B[39mcreate_request(request_dict, operation_model)\n\u001B[1;32m--> 196\u001B[0m success_response, exception \u001B[38;5;241m=\u001B[39m \u001B[38;5;28;43mself\u001B[39;49m\u001B[38;5;241;43m.\u001B[39;49m\u001B[43m_get_response\u001B[49m\u001B[43m(\u001B[49m\n\u001B[0;32m    197\u001B[0m \u001B[43m    \u001B[49m\u001B[43mrequest\u001B[49m\u001B[43m,\u001B[49m\u001B[43m \u001B[49m\u001B[43moperation_model\u001B[49m\u001B[43m,\u001B[49m\u001B[43m \u001B[49m\u001B[43mcontext\u001B[49m\n\u001B[0;32m    198\u001B[0m \u001B[43m\u001B[49m\u001B[43m)\u001B[49m\n\u001B[0;32m    199\u001B[0m \u001B[38;5;28;01mwhile\u001B[39;00m \u001B[38;5;28mself\u001B[39m\u001B[38;5;241m.\u001B[39m_needs_retry(\n\u001B[0;32m    200\u001B[0m     attempts,\n\u001B[0;32m    201\u001B[0m     operation_model,\n\u001B[1;32m   (...)\u001B[0m\n\u001B[0;32m    204\u001B[0m     exception,\n\u001B[0;32m    205\u001B[0m ):\n\u001B[0;32m    206\u001B[0m     attempts \u001B[38;5;241m+\u001B[39m\u001B[38;5;241m=\u001B[39m \u001B[38;5;241m1\u001B[39m\n",
      "File \u001B[1;32m~\\anaconda3\\envs\\geospatial\\lib\\site-packages\\botocore\\endpoint.py:238\u001B[0m, in \u001B[0;36mEndpoint._get_response\u001B[1;34m(self, request, operation_model, context)\u001B[0m\n\u001B[0;32m    232\u001B[0m \u001B[38;5;28;01mdef\u001B[39;00m \u001B[38;5;21m_get_response\u001B[39m(\u001B[38;5;28mself\u001B[39m, request, operation_model, context):\n\u001B[0;32m    233\u001B[0m     \u001B[38;5;66;03m# This will return a tuple of (success_response, exception)\u001B[39;00m\n\u001B[0;32m    234\u001B[0m     \u001B[38;5;66;03m# and success_response is itself a tuple of\u001B[39;00m\n\u001B[0;32m    235\u001B[0m     \u001B[38;5;66;03m# (http_response, parsed_dict).\u001B[39;00m\n\u001B[0;32m    236\u001B[0m     \u001B[38;5;66;03m# If an exception occurs then the success_response is None.\u001B[39;00m\n\u001B[0;32m    237\u001B[0m     \u001B[38;5;66;03m# If no exception occurs then exception is None.\u001B[39;00m\n\u001B[1;32m--> 238\u001B[0m     success_response, exception \u001B[38;5;241m=\u001B[39m \u001B[38;5;28;43mself\u001B[39;49m\u001B[38;5;241;43m.\u001B[39;49m\u001B[43m_do_get_response\u001B[49m\u001B[43m(\u001B[49m\n\u001B[0;32m    239\u001B[0m \u001B[43m        \u001B[49m\u001B[43mrequest\u001B[49m\u001B[43m,\u001B[49m\u001B[43m \u001B[49m\u001B[43moperation_model\u001B[49m\u001B[43m,\u001B[49m\u001B[43m \u001B[49m\u001B[43mcontext\u001B[49m\n\u001B[0;32m    240\u001B[0m \u001B[43m    \u001B[49m\u001B[43m)\u001B[49m\n\u001B[0;32m    241\u001B[0m     kwargs_to_emit \u001B[38;5;241m=\u001B[39m {\n\u001B[0;32m    242\u001B[0m         \u001B[38;5;124m'\u001B[39m\u001B[38;5;124mresponse_dict\u001B[39m\u001B[38;5;124m'\u001B[39m: \u001B[38;5;28;01mNone\u001B[39;00m,\n\u001B[0;32m    243\u001B[0m         \u001B[38;5;124m'\u001B[39m\u001B[38;5;124mparsed_response\u001B[39m\u001B[38;5;124m'\u001B[39m: \u001B[38;5;28;01mNone\u001B[39;00m,\n\u001B[0;32m    244\u001B[0m         \u001B[38;5;124m'\u001B[39m\u001B[38;5;124mcontext\u001B[39m\u001B[38;5;124m'\u001B[39m: context,\n\u001B[0;32m    245\u001B[0m         \u001B[38;5;124m'\u001B[39m\u001B[38;5;124mexception\u001B[39m\u001B[38;5;124m'\u001B[39m: exception,\n\u001B[0;32m    246\u001B[0m     }\n\u001B[0;32m    247\u001B[0m     \u001B[38;5;28;01mif\u001B[39;00m success_response \u001B[38;5;129;01mis\u001B[39;00m \u001B[38;5;129;01mnot\u001B[39;00m \u001B[38;5;28;01mNone\u001B[39;00m:\n",
      "File \u001B[1;32m~\\anaconda3\\envs\\geospatial\\lib\\site-packages\\botocore\\endpoint.py:278\u001B[0m, in \u001B[0;36mEndpoint._do_get_response\u001B[1;34m(self, request, operation_model, context)\u001B[0m\n\u001B[0;32m    276\u001B[0m     http_response \u001B[38;5;241m=\u001B[39m first_non_none_response(responses)\n\u001B[0;32m    277\u001B[0m     \u001B[38;5;28;01mif\u001B[39;00m http_response \u001B[38;5;129;01mis\u001B[39;00m \u001B[38;5;28;01mNone\u001B[39;00m:\n\u001B[1;32m--> 278\u001B[0m         http_response \u001B[38;5;241m=\u001B[39m \u001B[38;5;28;43mself\u001B[39;49m\u001B[38;5;241;43m.\u001B[39;49m\u001B[43m_send\u001B[49m\u001B[43m(\u001B[49m\u001B[43mrequest\u001B[49m\u001B[43m)\u001B[49m\n\u001B[0;32m    279\u001B[0m \u001B[38;5;28;01mexcept\u001B[39;00m HTTPClientError \u001B[38;5;28;01mas\u001B[39;00m e:\n\u001B[0;32m    280\u001B[0m     \u001B[38;5;28;01mreturn\u001B[39;00m (\u001B[38;5;28;01mNone\u001B[39;00m, e)\n",
      "File \u001B[1;32m~\\anaconda3\\envs\\geospatial\\lib\\site-packages\\botocore\\endpoint.py:374\u001B[0m, in \u001B[0;36mEndpoint._send\u001B[1;34m(self, request)\u001B[0m\n\u001B[0;32m    373\u001B[0m \u001B[38;5;28;01mdef\u001B[39;00m \u001B[38;5;21m_send\u001B[39m(\u001B[38;5;28mself\u001B[39m, request):\n\u001B[1;32m--> 374\u001B[0m     \u001B[38;5;28;01mreturn\u001B[39;00m \u001B[38;5;28;43mself\u001B[39;49m\u001B[38;5;241;43m.\u001B[39;49m\u001B[43mhttp_session\u001B[49m\u001B[38;5;241;43m.\u001B[39;49m\u001B[43msend\u001B[49m\u001B[43m(\u001B[49m\u001B[43mrequest\u001B[49m\u001B[43m)\u001B[49m\n",
      "File \u001B[1;32m~\\anaconda3\\envs\\geospatial\\lib\\site-packages\\botocore\\httpsession.py:443\u001B[0m, in \u001B[0;36mURLLib3Session.send\u001B[1;34m(self, request)\u001B[0m\n\u001B[0;32m    440\u001B[0m     conn\u001B[38;5;241m.\u001B[39mproxy_headers[\u001B[38;5;124m'\u001B[39m\u001B[38;5;124mhost\u001B[39m\u001B[38;5;124m'\u001B[39m] \u001B[38;5;241m=\u001B[39m host\n\u001B[0;32m    442\u001B[0m request_target \u001B[38;5;241m=\u001B[39m \u001B[38;5;28mself\u001B[39m\u001B[38;5;241m.\u001B[39m_get_request_target(request\u001B[38;5;241m.\u001B[39murl, proxy_url)\n\u001B[1;32m--> 443\u001B[0m urllib_response \u001B[38;5;241m=\u001B[39m \u001B[43mconn\u001B[49m\u001B[38;5;241;43m.\u001B[39;49m\u001B[43murlopen\u001B[49m\u001B[43m(\u001B[49m\n\u001B[0;32m    444\u001B[0m \u001B[43m    \u001B[49m\u001B[43mmethod\u001B[49m\u001B[38;5;241;43m=\u001B[39;49m\u001B[43mrequest\u001B[49m\u001B[38;5;241;43m.\u001B[39;49m\u001B[43mmethod\u001B[49m\u001B[43m,\u001B[49m\n\u001B[0;32m    445\u001B[0m \u001B[43m    \u001B[49m\u001B[43murl\u001B[49m\u001B[38;5;241;43m=\u001B[39;49m\u001B[43mrequest_target\u001B[49m\u001B[43m,\u001B[49m\n\u001B[0;32m    446\u001B[0m \u001B[43m    \u001B[49m\u001B[43mbody\u001B[49m\u001B[38;5;241;43m=\u001B[39;49m\u001B[43mrequest\u001B[49m\u001B[38;5;241;43m.\u001B[39;49m\u001B[43mbody\u001B[49m\u001B[43m,\u001B[49m\n\u001B[0;32m    447\u001B[0m \u001B[43m    \u001B[49m\u001B[43mheaders\u001B[49m\u001B[38;5;241;43m=\u001B[39;49m\u001B[43mrequest\u001B[49m\u001B[38;5;241;43m.\u001B[39;49m\u001B[43mheaders\u001B[49m\u001B[43m,\u001B[49m\n\u001B[0;32m    448\u001B[0m \u001B[43m    \u001B[49m\u001B[43mretries\u001B[49m\u001B[38;5;241;43m=\u001B[39;49m\u001B[43mRetry\u001B[49m\u001B[43m(\u001B[49m\u001B[38;5;28;43;01mFalse\u001B[39;49;00m\u001B[43m)\u001B[49m\u001B[43m,\u001B[49m\n\u001B[0;32m    449\u001B[0m \u001B[43m    \u001B[49m\u001B[43massert_same_host\u001B[49m\u001B[38;5;241;43m=\u001B[39;49m\u001B[38;5;28;43;01mFalse\u001B[39;49;00m\u001B[43m,\u001B[49m\n\u001B[0;32m    450\u001B[0m \u001B[43m    \u001B[49m\u001B[43mpreload_content\u001B[49m\u001B[38;5;241;43m=\u001B[39;49m\u001B[38;5;28;43;01mFalse\u001B[39;49;00m\u001B[43m,\u001B[49m\n\u001B[0;32m    451\u001B[0m \u001B[43m    \u001B[49m\u001B[43mdecode_content\u001B[49m\u001B[38;5;241;43m=\u001B[39;49m\u001B[38;5;28;43;01mFalse\u001B[39;49;00m\u001B[43m,\u001B[49m\n\u001B[0;32m    452\u001B[0m \u001B[43m    \u001B[49m\u001B[43mchunked\u001B[49m\u001B[38;5;241;43m=\u001B[39;49m\u001B[38;5;28;43mself\u001B[39;49m\u001B[38;5;241;43m.\u001B[39;49m\u001B[43m_chunked\u001B[49m\u001B[43m(\u001B[49m\u001B[43mrequest\u001B[49m\u001B[38;5;241;43m.\u001B[39;49m\u001B[43mheaders\u001B[49m\u001B[43m)\u001B[49m\u001B[43m,\u001B[49m\n\u001B[0;32m    453\u001B[0m \u001B[43m\u001B[49m\u001B[43m)\u001B[49m\n\u001B[0;32m    455\u001B[0m http_response \u001B[38;5;241m=\u001B[39m botocore\u001B[38;5;241m.\u001B[39mawsrequest\u001B[38;5;241m.\u001B[39mAWSResponse(\n\u001B[0;32m    456\u001B[0m     request\u001B[38;5;241m.\u001B[39murl,\n\u001B[0;32m    457\u001B[0m     urllib_response\u001B[38;5;241m.\u001B[39mstatus,\n\u001B[0;32m    458\u001B[0m     urllib_response\u001B[38;5;241m.\u001B[39mheaders,\n\u001B[0;32m    459\u001B[0m     urllib_response,\n\u001B[0;32m    460\u001B[0m )\n\u001B[0;32m    462\u001B[0m \u001B[38;5;28;01mif\u001B[39;00m \u001B[38;5;129;01mnot\u001B[39;00m request\u001B[38;5;241m.\u001B[39mstream_output:\n\u001B[0;32m    463\u001B[0m     \u001B[38;5;66;03m# Cause the raw stream to be exhausted immediately. We do it\u001B[39;00m\n\u001B[0;32m    464\u001B[0m     \u001B[38;5;66;03m# this way instead of using preload_content because\u001B[39;00m\n\u001B[0;32m    465\u001B[0m     \u001B[38;5;66;03m# preload_content will never buffer chunked responses\u001B[39;00m\n",
      "File \u001B[1;32m~\\anaconda3\\envs\\geospatial\\lib\\site-packages\\urllib3\\connectionpool.py:703\u001B[0m, in \u001B[0;36mHTTPConnectionPool.urlopen\u001B[1;34m(self, method, url, body, headers, retries, redirect, assert_same_host, timeout, pool_timeout, release_conn, chunked, body_pos, **response_kw)\u001B[0m\n\u001B[0;32m    700\u001B[0m     \u001B[38;5;28mself\u001B[39m\u001B[38;5;241m.\u001B[39m_prepare_proxy(conn)\n\u001B[0;32m    702\u001B[0m \u001B[38;5;66;03m# Make the request on the httplib connection object.\u001B[39;00m\n\u001B[1;32m--> 703\u001B[0m httplib_response \u001B[38;5;241m=\u001B[39m \u001B[38;5;28;43mself\u001B[39;49m\u001B[38;5;241;43m.\u001B[39;49m\u001B[43m_make_request\u001B[49m\u001B[43m(\u001B[49m\n\u001B[0;32m    704\u001B[0m \u001B[43m    \u001B[49m\u001B[43mconn\u001B[49m\u001B[43m,\u001B[49m\n\u001B[0;32m    705\u001B[0m \u001B[43m    \u001B[49m\u001B[43mmethod\u001B[49m\u001B[43m,\u001B[49m\n\u001B[0;32m    706\u001B[0m \u001B[43m    \u001B[49m\u001B[43murl\u001B[49m\u001B[43m,\u001B[49m\n\u001B[0;32m    707\u001B[0m \u001B[43m    \u001B[49m\u001B[43mtimeout\u001B[49m\u001B[38;5;241;43m=\u001B[39;49m\u001B[43mtimeout_obj\u001B[49m\u001B[43m,\u001B[49m\n\u001B[0;32m    708\u001B[0m \u001B[43m    \u001B[49m\u001B[43mbody\u001B[49m\u001B[38;5;241;43m=\u001B[39;49m\u001B[43mbody\u001B[49m\u001B[43m,\u001B[49m\n\u001B[0;32m    709\u001B[0m \u001B[43m    \u001B[49m\u001B[43mheaders\u001B[49m\u001B[38;5;241;43m=\u001B[39;49m\u001B[43mheaders\u001B[49m\u001B[43m,\u001B[49m\n\u001B[0;32m    710\u001B[0m \u001B[43m    \u001B[49m\u001B[43mchunked\u001B[49m\u001B[38;5;241;43m=\u001B[39;49m\u001B[43mchunked\u001B[49m\u001B[43m,\u001B[49m\n\u001B[0;32m    711\u001B[0m \u001B[43m\u001B[49m\u001B[43m)\u001B[49m\n\u001B[0;32m    713\u001B[0m \u001B[38;5;66;03m# If we're going to release the connection in ``finally:``, then\u001B[39;00m\n\u001B[0;32m    714\u001B[0m \u001B[38;5;66;03m# the response doesn't need to know about the connection. Otherwise\u001B[39;00m\n\u001B[0;32m    715\u001B[0m \u001B[38;5;66;03m# it will also try to release it and we'll have a double-release\u001B[39;00m\n\u001B[0;32m    716\u001B[0m \u001B[38;5;66;03m# mess.\u001B[39;00m\n\u001B[0;32m    717\u001B[0m response_conn \u001B[38;5;241m=\u001B[39m conn \u001B[38;5;28;01mif\u001B[39;00m \u001B[38;5;129;01mnot\u001B[39;00m release_conn \u001B[38;5;28;01melse\u001B[39;00m \u001B[38;5;28;01mNone\u001B[39;00m\n",
      "File \u001B[1;32m~\\anaconda3\\envs\\geospatial\\lib\\site-packages\\urllib3\\connectionpool.py:449\u001B[0m, in \u001B[0;36mHTTPConnectionPool._make_request\u001B[1;34m(self, conn, method, url, timeout, chunked, **httplib_request_kw)\u001B[0m\n\u001B[0;32m    444\u001B[0m             httplib_response \u001B[38;5;241m=\u001B[39m conn\u001B[38;5;241m.\u001B[39mgetresponse()\n\u001B[0;32m    445\u001B[0m         \u001B[38;5;28;01mexcept\u001B[39;00m \u001B[38;5;167;01mBaseException\u001B[39;00m \u001B[38;5;28;01mas\u001B[39;00m e:\n\u001B[0;32m    446\u001B[0m             \u001B[38;5;66;03m# Remove the TypeError from the exception chain in\u001B[39;00m\n\u001B[0;32m    447\u001B[0m             \u001B[38;5;66;03m# Python 3 (including for exceptions like SystemExit).\u001B[39;00m\n\u001B[0;32m    448\u001B[0m             \u001B[38;5;66;03m# Otherwise it looks like a bug in the code.\u001B[39;00m\n\u001B[1;32m--> 449\u001B[0m             \u001B[43msix\u001B[49m\u001B[38;5;241;43m.\u001B[39;49m\u001B[43mraise_from\u001B[49m\u001B[43m(\u001B[49m\u001B[43me\u001B[49m\u001B[43m,\u001B[49m\u001B[43m \u001B[49m\u001B[38;5;28;43;01mNone\u001B[39;49;00m\u001B[43m)\u001B[49m\n\u001B[0;32m    450\u001B[0m \u001B[38;5;28;01mexcept\u001B[39;00m (SocketTimeout, BaseSSLError, SocketError) \u001B[38;5;28;01mas\u001B[39;00m e:\n\u001B[0;32m    451\u001B[0m     \u001B[38;5;28mself\u001B[39m\u001B[38;5;241m.\u001B[39m_raise_timeout(err\u001B[38;5;241m=\u001B[39me, url\u001B[38;5;241m=\u001B[39murl, timeout_value\u001B[38;5;241m=\u001B[39mread_timeout)\n",
      "File \u001B[1;32m<string>:3\u001B[0m, in \u001B[0;36mraise_from\u001B[1;34m(value, from_value)\u001B[0m\n",
      "File \u001B[1;32m~\\anaconda3\\envs\\geospatial\\lib\\site-packages\\urllib3\\connectionpool.py:444\u001B[0m, in \u001B[0;36mHTTPConnectionPool._make_request\u001B[1;34m(self, conn, method, url, timeout, chunked, **httplib_request_kw)\u001B[0m\n\u001B[0;32m    441\u001B[0m \u001B[38;5;28;01mexcept\u001B[39;00m \u001B[38;5;167;01mTypeError\u001B[39;00m:\n\u001B[0;32m    442\u001B[0m     \u001B[38;5;66;03m# Python 3\u001B[39;00m\n\u001B[0;32m    443\u001B[0m     \u001B[38;5;28;01mtry\u001B[39;00m:\n\u001B[1;32m--> 444\u001B[0m         httplib_response \u001B[38;5;241m=\u001B[39m \u001B[43mconn\u001B[49m\u001B[38;5;241;43m.\u001B[39;49m\u001B[43mgetresponse\u001B[49m\u001B[43m(\u001B[49m\u001B[43m)\u001B[49m\n\u001B[0;32m    445\u001B[0m     \u001B[38;5;28;01mexcept\u001B[39;00m \u001B[38;5;167;01mBaseException\u001B[39;00m \u001B[38;5;28;01mas\u001B[39;00m e:\n\u001B[0;32m    446\u001B[0m         \u001B[38;5;66;03m# Remove the TypeError from the exception chain in\u001B[39;00m\n\u001B[0;32m    447\u001B[0m         \u001B[38;5;66;03m# Python 3 (including for exceptions like SystemExit).\u001B[39;00m\n\u001B[0;32m    448\u001B[0m         \u001B[38;5;66;03m# Otherwise it looks like a bug in the code.\u001B[39;00m\n\u001B[0;32m    449\u001B[0m         six\u001B[38;5;241m.\u001B[39mraise_from(e, \u001B[38;5;28;01mNone\u001B[39;00m)\n",
      "File \u001B[1;32m~\\anaconda3\\envs\\geospatial\\lib\\http\\client.py:1377\u001B[0m, in \u001B[0;36mHTTPConnection.getresponse\u001B[1;34m(self)\u001B[0m\n\u001B[0;32m   1375\u001B[0m \u001B[38;5;28;01mtry\u001B[39;00m:\n\u001B[0;32m   1376\u001B[0m     \u001B[38;5;28;01mtry\u001B[39;00m:\n\u001B[1;32m-> 1377\u001B[0m         \u001B[43mresponse\u001B[49m\u001B[38;5;241;43m.\u001B[39;49m\u001B[43mbegin\u001B[49m\u001B[43m(\u001B[49m\u001B[43m)\u001B[49m\n\u001B[0;32m   1378\u001B[0m     \u001B[38;5;28;01mexcept\u001B[39;00m \u001B[38;5;167;01mConnectionError\u001B[39;00m:\n\u001B[0;32m   1379\u001B[0m         \u001B[38;5;28mself\u001B[39m\u001B[38;5;241m.\u001B[39mclose()\n",
      "File \u001B[1;32m~\\anaconda3\\envs\\geospatial\\lib\\http\\client.py:320\u001B[0m, in \u001B[0;36mHTTPResponse.begin\u001B[1;34m(self)\u001B[0m\n\u001B[0;32m    318\u001B[0m \u001B[38;5;66;03m# read until we get a non-100 response\u001B[39;00m\n\u001B[0;32m    319\u001B[0m \u001B[38;5;28;01mwhile\u001B[39;00m \u001B[38;5;28;01mTrue\u001B[39;00m:\n\u001B[1;32m--> 320\u001B[0m     version, status, reason \u001B[38;5;241m=\u001B[39m \u001B[38;5;28;43mself\u001B[39;49m\u001B[38;5;241;43m.\u001B[39;49m\u001B[43m_read_status\u001B[49m\u001B[43m(\u001B[49m\u001B[43m)\u001B[49m\n\u001B[0;32m    321\u001B[0m     \u001B[38;5;28;01mif\u001B[39;00m status \u001B[38;5;241m!=\u001B[39m CONTINUE:\n\u001B[0;32m    322\u001B[0m         \u001B[38;5;28;01mbreak\u001B[39;00m\n",
      "File \u001B[1;32m~\\anaconda3\\envs\\geospatial\\lib\\http\\client.py:281\u001B[0m, in \u001B[0;36mHTTPResponse._read_status\u001B[1;34m(self)\u001B[0m\n\u001B[0;32m    280\u001B[0m \u001B[38;5;28;01mdef\u001B[39;00m \u001B[38;5;21m_read_status\u001B[39m(\u001B[38;5;28mself\u001B[39m):\n\u001B[1;32m--> 281\u001B[0m     line \u001B[38;5;241m=\u001B[39m \u001B[38;5;28mstr\u001B[39m(\u001B[38;5;28;43mself\u001B[39;49m\u001B[38;5;241;43m.\u001B[39;49m\u001B[43mfp\u001B[49m\u001B[38;5;241;43m.\u001B[39;49m\u001B[43mreadline\u001B[49m\u001B[43m(\u001B[49m\u001B[43m_MAXLINE\u001B[49m\u001B[43m \u001B[49m\u001B[38;5;241;43m+\u001B[39;49m\u001B[43m \u001B[49m\u001B[38;5;241;43m1\u001B[39;49m\u001B[43m)\u001B[49m, \u001B[38;5;124m\"\u001B[39m\u001B[38;5;124miso-8859-1\u001B[39m\u001B[38;5;124m\"\u001B[39m)\n\u001B[0;32m    282\u001B[0m     \u001B[38;5;28;01mif\u001B[39;00m \u001B[38;5;28mlen\u001B[39m(line) \u001B[38;5;241m>\u001B[39m _MAXLINE:\n\u001B[0;32m    283\u001B[0m         \u001B[38;5;28;01mraise\u001B[39;00m LineTooLong(\u001B[38;5;124m\"\u001B[39m\u001B[38;5;124mstatus line\u001B[39m\u001B[38;5;124m\"\u001B[39m)\n",
      "File \u001B[1;32m~\\anaconda3\\envs\\geospatial\\lib\\socket.py:704\u001B[0m, in \u001B[0;36mSocketIO.readinto\u001B[1;34m(self, b)\u001B[0m\n\u001B[0;32m    702\u001B[0m \u001B[38;5;28;01mwhile\u001B[39;00m \u001B[38;5;28;01mTrue\u001B[39;00m:\n\u001B[0;32m    703\u001B[0m     \u001B[38;5;28;01mtry\u001B[39;00m:\n\u001B[1;32m--> 704\u001B[0m         \u001B[38;5;28;01mreturn\u001B[39;00m \u001B[38;5;28;43mself\u001B[39;49m\u001B[38;5;241;43m.\u001B[39;49m\u001B[43m_sock\u001B[49m\u001B[38;5;241;43m.\u001B[39;49m\u001B[43mrecv_into\u001B[49m\u001B[43m(\u001B[49m\u001B[43mb\u001B[49m\u001B[43m)\u001B[49m\n\u001B[0;32m    705\u001B[0m     \u001B[38;5;28;01mexcept\u001B[39;00m timeout:\n\u001B[0;32m    706\u001B[0m         \u001B[38;5;28mself\u001B[39m\u001B[38;5;241m.\u001B[39m_timeout_occurred \u001B[38;5;241m=\u001B[39m \u001B[38;5;28;01mTrue\u001B[39;00m\n",
      "File \u001B[1;32m~\\anaconda3\\envs\\geospatial\\lib\\ssl.py:1241\u001B[0m, in \u001B[0;36mSSLSocket.recv_into\u001B[1;34m(self, buffer, nbytes, flags)\u001B[0m\n\u001B[0;32m   1237\u001B[0m     \u001B[38;5;28;01mif\u001B[39;00m flags \u001B[38;5;241m!=\u001B[39m \u001B[38;5;241m0\u001B[39m:\n\u001B[0;32m   1238\u001B[0m         \u001B[38;5;28;01mraise\u001B[39;00m \u001B[38;5;167;01mValueError\u001B[39;00m(\n\u001B[0;32m   1239\u001B[0m           \u001B[38;5;124m\"\u001B[39m\u001B[38;5;124mnon-zero flags not allowed in calls to recv_into() on \u001B[39m\u001B[38;5;132;01m%s\u001B[39;00m\u001B[38;5;124m\"\u001B[39m \u001B[38;5;241m%\u001B[39m\n\u001B[0;32m   1240\u001B[0m           \u001B[38;5;28mself\u001B[39m\u001B[38;5;241m.\u001B[39m\u001B[38;5;18m__class__\u001B[39m)\n\u001B[1;32m-> 1241\u001B[0m     \u001B[38;5;28;01mreturn\u001B[39;00m \u001B[38;5;28;43mself\u001B[39;49m\u001B[38;5;241;43m.\u001B[39;49m\u001B[43mread\u001B[49m\u001B[43m(\u001B[49m\u001B[43mnbytes\u001B[49m\u001B[43m,\u001B[49m\u001B[43m \u001B[49m\u001B[43mbuffer\u001B[49m\u001B[43m)\u001B[49m\n\u001B[0;32m   1242\u001B[0m \u001B[38;5;28;01melse\u001B[39;00m:\n\u001B[0;32m   1243\u001B[0m     \u001B[38;5;28;01mreturn\u001B[39;00m \u001B[38;5;28msuper\u001B[39m()\u001B[38;5;241m.\u001B[39mrecv_into(buffer, nbytes, flags)\n",
      "File \u001B[1;32m~\\anaconda3\\envs\\geospatial\\lib\\ssl.py:1099\u001B[0m, in \u001B[0;36mSSLSocket.read\u001B[1;34m(self, len, buffer)\u001B[0m\n\u001B[0;32m   1097\u001B[0m \u001B[38;5;28;01mtry\u001B[39;00m:\n\u001B[0;32m   1098\u001B[0m     \u001B[38;5;28;01mif\u001B[39;00m buffer \u001B[38;5;129;01mis\u001B[39;00m \u001B[38;5;129;01mnot\u001B[39;00m \u001B[38;5;28;01mNone\u001B[39;00m:\n\u001B[1;32m-> 1099\u001B[0m         \u001B[38;5;28;01mreturn\u001B[39;00m \u001B[38;5;28;43mself\u001B[39;49m\u001B[38;5;241;43m.\u001B[39;49m\u001B[43m_sslobj\u001B[49m\u001B[38;5;241;43m.\u001B[39;49m\u001B[43mread\u001B[49m\u001B[43m(\u001B[49m\u001B[38;5;28;43mlen\u001B[39;49m\u001B[43m,\u001B[49m\u001B[43m \u001B[49m\u001B[43mbuffer\u001B[49m\u001B[43m)\u001B[49m\n\u001B[0;32m   1100\u001B[0m     \u001B[38;5;28;01melse\u001B[39;00m:\n\u001B[0;32m   1101\u001B[0m         \u001B[38;5;28;01mreturn\u001B[39;00m \u001B[38;5;28mself\u001B[39m\u001B[38;5;241m.\u001B[39m_sslobj\u001B[38;5;241m.\u001B[39mread(\u001B[38;5;28mlen\u001B[39m)\n",
      "\u001B[1;31mKeyboardInterrupt\u001B[0m: "
     ]
    }
   ],
   "source": [
    "for key in keys:\n",
    "    storage.delete_object(bucket='daniel-lithops-geospatial', key=key)"
   ]
  },
  {
   "cell_type": "markdown",
   "metadata": {
    "pycharm": {
     "name": "#%% md\n"
    }
   },
   "source": [
    "## Get and plot the computed jpg diff tile image"
   ]
  },
  {
   "cell_type": "code",
   "execution_count": null,
   "metadata": {
    "pycharm": {
     "name": "#%%\n"
    },
    "scrolled": true
   },
   "outputs": [],
   "source": [
    "def get_jpg(data):\n",
    "    file = '_'.join(data[0][1].key.split('_')[:5])\n",
    "    \n",
    "    if 'DIFF' in data[0][1].key:\n",
    "        out_file = f'AwsData/{file}_NDVI_DIFF.jpg'\n",
    "    else:\n",
    "        out_file = f'AwsData/{file}_NDVI.jpg'\n",
    "        \n",
    "    jpgs = {}\n",
    "\n",
    "    def get_window(data):\n",
    "        ij_window, co_jpg = data\n",
    "        row = ij_window[0][0]\n",
    "        col = ij_window[0][1]\n",
    "        jpg_stream = fexec.storage.get_cloudobject(co_jpg, stream=True)\n",
    "\n",
    "        if row not in jpgs:\n",
    "            jpgs[row] = [None]*11\n",
    "\n",
    "        jpgs[row][col] = Image.open(jpg_stream)\n",
    "\n",
    "    with ThreadPoolExecutor(max_workers=len(data)) as ex:\n",
    "        fs = ex.map(get_window, data)\n",
    "\n",
    "    new_im = Image.new('RGB', (scene_band.width, scene_band.height))\n",
    "\n",
    "    x_offset = 0\n",
    "    y_offset = 0\n",
    "\n",
    "    for row in sorted(jpgs.keys()):\n",
    "        for im in jpgs[row]:\n",
    "            new_im.paste(im, (x_offset, y_offset))\n",
    "            x_offset += im.size[0]\n",
    "        x_offset = 0\n",
    "        y_offset += im.size[1]\n",
    "        \n",
    "    thumbnail_zise = (640, 640)\n",
    "    new_im.thumbnail(thumbnail_zise)\n",
    "\n",
    "    #fig = plt.figure(figsize=(10, 10))\n",
    "    #plt.title(out_file)\n",
    "    #plt.imshow(new_im)\n",
    "    images[out_file] = new_im"
   ]
  },
  {
   "cell_type": "code",
   "execution_count": null,
   "metadata": {
    "pycharm": {
     "name": "#%%\n"
    }
   },
   "outputs": [],
   "source": [
    "co_jpgs_f1 = [(res[0], res[1]) for res in results]\n",
    "co_jpgs_f2 = [(res[0], res[2]) for res in results]\n",
    "co_jpgs_diff = [(res[0], res[3]) for res in results]\n",
    "\n",
    "images = {}\n",
    "with ThreadPoolExecutor(max_workers=3) as ex:\n",
    "    fs = ex.map(get_jpg, [co_jpgs_f1, co_jpgs_f2, co_jpgs_diff])\n",
    "\n",
    "f, ax = plt.subplots(1,3, figsize=(18, 18))\n",
    "i = 0\n",
    "for j in sorted(images.keys()):\n",
    "    ax[i].set_title(j)\n",
    "    ax[i].imshow(images[j])\n",
    "    i = i+1\n",
    "plt.show() "
   ]
  },
  {
   "cell_type": "code",
   "execution_count": null,
   "metadata": {
    "pycharm": {
     "name": "#%%\n"
    }
   },
   "outputs": [],
   "source": []
  }
 ],
 "metadata": {
  "kernelspec": {
   "display_name": "cloudbutton-geospatial",
   "language": "python",
   "name": "cloudbutton-geospatial"
  },
  "language_info": {
   "codemirror_mode": {
    "name": "ipython",
    "version": 3
   },
   "file_extension": ".py",
   "mimetype": "text/x-python",
   "name": "python",
   "nbconvert_exporter": "python",
   "pygments_lexer": "ipython3",
   "version": "3.9.12"
  }
 },
 "nbformat": 4,
 "nbformat_minor": 4
}